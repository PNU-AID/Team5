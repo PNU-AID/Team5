{
 "cells": [
  {
   "cell_type": "code",
   "execution_count": 66,
   "metadata": {},
   "outputs": [],
   "source": [
    "import numpy as np\n",
    "import matplotlib.pyplot as plt"
   ]
  },
  {
   "cell_type": "code",
   "execution_count": 159,
   "metadata": {},
   "outputs": [],
   "source": [
    "import os\n",
    "os.environ[\"CUDA_VISIBLE_DEVICES\"] = \"0\""
   ]
  },
  {
   "attachments": {},
   "cell_type": "markdown",
   "metadata": {},
   "source": [
    "# 8-1 합성곱 연산\n",
    "합성곱(convolutiaon) 연산 + 교차 상관(cross-correlation) 연산"
   ]
  },
  {
   "attachments": {},
   "cell_type": "markdown",
   "metadata": {},
   "source": [
    "## 합성곱 연산\n",
    "$$x * w^r$$"
   ]
  },
  {
   "attachments": {},
   "cell_type": "markdown",
   "metadata": {},
   "source": [
    "### 합성곱 연산 구현"
   ]
  },
  {
   "cell_type": "code",
   "execution_count": 68,
   "metadata": {},
   "outputs": [],
   "source": [
    "w = np.array([2, 1, 5, 3])\n",
    "x = np.array([2, 8, 3, 7, 1, 2, 0, 4, 5])"
   ]
  },
  {
   "cell_type": "code",
   "execution_count": 69,
   "metadata": {},
   "outputs": [
    {
     "name": "stdout",
     "output_type": "stream",
     "text": [
      "[3 5 1 2]\n"
     ]
    }
   ],
   "source": [
    "w_r = np.flip(w)\n",
    "# w_r = w[::-1]\n",
    "print(w_r)"
   ]
  },
  {
   "cell_type": "code",
   "execution_count": 70,
   "metadata": {},
   "outputs": [
    {
     "name": "stdout",
     "output_type": "stream",
     "text": [
      "63\n",
      "48\n",
      "49\n",
      "28\n",
      "21\n",
      "20\n"
     ]
    }
   ],
   "source": [
    "# 넘파이로 합성곱 수행\n",
    "for i in range(6):\n",
    "    print(np.dot(x[i:i+4], w_r))\n"
   ]
  },
  {
   "cell_type": "code",
   "execution_count": 71,
   "metadata": {},
   "outputs": [
    {
     "data": {
      "text/plain": [
       "array([63, 48, 49, 28, 21, 20])"
      ]
     },
     "execution_count": 71,
     "metadata": {},
     "output_type": "execute_result"
    }
   ],
   "source": [
    "# 싸이파이로 합성곱 수행\n",
    "from scipy.signal import convolve\n",
    "convolve(x, w, mode='valid')"
   ]
  },
  {
   "attachments": {},
   "cell_type": "markdown",
   "metadata": {},
   "source": [
    "## 합성곱 신경망은 진짜 합성곱을 사용하지 않는다.\n",
    "대부분의 딥러닝 패키지들은 합성곱 신경망을 만들 때 교차 상관을 사용한다.\n",
    "\n",
    "교차 상관\n",
    "$$x*w$$"
   ]
  },
  {
   "cell_type": "code",
   "execution_count": 72,
   "metadata": {},
   "outputs": [
    {
     "data": {
      "text/plain": [
       "array([48, 57, 24, 25, 16, 39])"
      ]
     },
     "execution_count": 72,
     "metadata": {},
     "output_type": "execute_result"
    }
   ],
   "source": [
    "# 싸이파이로 교차 상관 수행\n",
    "from scipy.signal import correlate\n",
    "correlate(x, w, mode='valid')"
   ]
  },
  {
   "attachments": {},
   "cell_type": "markdown",
   "metadata": {},
   "source": [
    "### 교차 상관 이유\n",
    "가중치 배열은 무작위로 초기화되기 때문에 합성곱 처럼 배열을 뒤집어서 계산하는 것과 교차 상관 처럼 그대로 계산하는 것과의 차이점이 없다."
   ]
  },
  {
   "attachments": {},
   "cell_type": "markdown",
   "metadata": {},
   "source": [
    "## 패딩, 스트라이드\n",
    "* 패딩(padding): 원본 배열 양 끝에 빈원소 추가\n",
    "* 스트라이드(stride): 미끄러지는 배열의 간격"
   ]
  },
  {
   "attachments": {},
   "cell_type": "markdown",
   "metadata": {},
   "source": [
    "### valid padding\n",
    "앞에서 mode='valid'라고 지정했다. 이는 valid padding을 지정한 것이다. \n",
    "* valid padding: 원본 배열에 패딩을 추가하지 않고 교차 상관을 수행\n",
    "* valid padding은 교차 상관을 수행해서 얻은 결과 배열의 크기가 원본 배열보다 작다. 원본 배열의 각 원소가 연산에 참여하는 정도가 다른 것 특징이다. "
   ]
  },
  {
   "attachments": {},
   "cell_type": "markdown",
   "metadata": {},
   "source": [
    "### full padding\n",
    "풀 패딩(full padding)은 원본 배열 원소의 연산 참여도를 동일하게 만든다.\n",
    "* 적절한 개수의 제로 패딩(zero padding)을 추가한다.\n",
    "* full padding으로 교차 상관을 수행하여 얻은 결과 배열의 크기는 원본 배열보다 크다."
   ]
  },
  {
   "cell_type": "code",
   "execution_count": 73,
   "metadata": {},
   "outputs": [
    {
     "data": {
      "text/plain": [
       "array([ 6, 34, 51, 48, 57, 24, 25, 16, 39, 29, 13, 10])"
      ]
     },
     "execution_count": 73,
     "metadata": {},
     "output_type": "execute_result"
    }
   ],
   "source": [
    "# full padding 예시\n",
    "correlate(x, w, mode='full')"
   ]
  },
  {
   "attachments": {},
   "cell_type": "markdown",
   "metadata": {},
   "source": [
    "### same padding\n",
    "* same padding은 출력 배열의 길이가 원본 배열의 길이와 같아지도록 제로 패딩을 추가한다."
   ]
  },
  {
   "cell_type": "code",
   "execution_count": 74,
   "metadata": {},
   "outputs": [
    {
     "data": {
      "text/plain": [
       "array([34, 51, 48, 57, 24, 25, 16, 39, 29])"
      ]
     },
     "execution_count": 74,
     "metadata": {},
     "output_type": "execute_result"
    }
   ],
   "source": [
    "# same padding\n",
    "correlate(x, w, mode='same')"
   ]
  },
  {
   "attachments": {},
   "cell_type": "markdown",
   "metadata": {},
   "source": [
    "### stride\n",
    "스트라이드를 k로 지정시 k칸씩 미끄러지며 연산 수행"
   ]
  },
  {
   "attachments": {},
   "cell_type": "markdown",
   "metadata": {},
   "source": [
    "## 2차원 배열 합성곱\n",
    "원본 배열의 왼쪽 모서리 끝에 미끄러지는 배열을 맞춘 다음 수행"
   ]
  },
  {
   "cell_type": "code",
   "execution_count": 75,
   "metadata": {},
   "outputs": [
    {
     "data": {
      "text/plain": [
       "array([[ 2,  4],\n",
       "       [ 8, 10]])"
      ]
     },
     "execution_count": 75,
     "metadata": {},
     "output_type": "execute_result"
    }
   ],
   "source": [
    "# 2차원 배열 합성곱\n",
    "# valid padding\n",
    "x = np.array([[1, 2, 3],\n",
    "              [4, 5, 6],\n",
    "              [7, 8, 9]])\n",
    "w = np.array([[2, 0],\n",
    "              [0, 0]])\n",
    "\n",
    "from scipy.signal import correlate2d\n",
    "\n",
    "correlate2d(x, w, mode='valid')"
   ]
  },
  {
   "cell_type": "code",
   "execution_count": 76,
   "metadata": {},
   "outputs": [
    {
     "data": {
      "text/plain": [
       "array([[ 2,  4,  6],\n",
       "       [ 8, 10, 12],\n",
       "       [14, 16, 18]])"
      ]
     },
     "execution_count": 76,
     "metadata": {},
     "output_type": "execute_result"
    }
   ],
   "source": [
    "# same padding - 오른쪽 모서리에 패딩이 추가된다.\n",
    "correlate2d(x, w, mode='same')"
   ]
  },
  {
   "attachments": {},
   "cell_type": "markdown",
   "metadata": {},
   "source": [
    "## 텐서플로 합성곱\n",
    "* 원본 배열 - 입력\n",
    "* 미끄러지는 배열 - 가중치\n",
    "  "
   ]
  },
  {
   "attachments": {},
   "cell_type": "markdown",
   "metadata": {},
   "source": [
    "2차원 합성곱 수행 - conv2d()\n",
    "* 보통 4차원 배열을 입력으로 받는다.\n",
    "* ex) (2, 3, 3, 3) - 배치 2, 샘플 높이 3, 샘플 너비 3,  컬러채널(RGB) 3\n",
    "* 가중치는 (가중치 높이, 가중치 너비, 채널, 가중치 개수)\n",
    "* same padding 적용시 (입력 배치, 입력 높이, 입력 너비, 가중치 개수)"
   ]
  },
  {
   "cell_type": "code",
   "execution_count": 77,
   "metadata": {},
   "outputs": [],
   "source": [
    "# 4차원 합성곱\n",
    "import tensorflow as tf\n",
    "with tf.device('/gpu:0'):\n",
    "    x_4d = x.astype(np.float).reshape(1, 3, 3, 1)\n",
    "    w_4d = w.reshape(2, 2, 1, 1)"
   ]
  },
  {
   "cell_type": "code",
   "execution_count": 78,
   "metadata": {},
   "outputs": [],
   "source": [
    "with tf.device('/gpu:0'):\n",
    "    c_cout = tf.nn.conv2d(x_4d, w_4d, strides=1, padding='SAME')"
   ]
  },
  {
   "cell_type": "code",
   "execution_count": 79,
   "metadata": {},
   "outputs": [
    {
     "data": {
      "text/plain": [
       "array([[ 2.,  4.,  6.],\n",
       "       [ 8., 10., 12.],\n",
       "       [14., 16., 18.]])"
      ]
     },
     "execution_count": 79,
     "metadata": {},
     "output_type": "execute_result"
    }
   ],
   "source": [
    "c_cout.numpy().reshape(3,3)"
   ]
  },
  {
   "attachments": {},
   "cell_type": "markdown",
   "metadata": {},
   "source": [
    "# 8-2 풀링 연산\n",
    "풀링(pooling): 특성 맵을 스캔하며 최댓값을 고르거나 평균값을 계산하는 것"
   ]
  },
  {
   "attachments": {},
   "cell_type": "markdown",
   "metadata": {},
   "source": [
    "## 최대 풀링(max pooling)\n",
    "* 특성 맵 위를 스캔하며 최댓값을 고른다.\n",
    "* 가장 큰 특징을 유지시킨다.(이미지 분류 작업에 잘 맞다.)"
   ]
  },
  {
   "attachments": {},
   "cell_type": "markdown",
   "metadata": {},
   "source": [
    "## 평균 풀링(average pooling)\n",
    "* 특성 맴 위를 스캔하며 평균을 낸다.\n",
    "* 가장 큰 특성의 값을 상쇄시킨다."
   ]
  },
  {
   "attachments": {},
   "cell_type": "markdown",
   "metadata": {},
   "source": [
    "## max, average pooling"
   ]
  },
  {
   "cell_type": "code",
   "execution_count": 80,
   "metadata": {},
   "outputs": [],
   "source": [
    "x = np.array([[1, 2, 3, 4],\n",
    "              [5, 6, 7, 8],\n",
    "              [9, 10, 11, 12],\n",
    "              [13, 14, 15, 16]])\n",
    "x = x.reshape(1, 4, 4, 1)"
   ]
  },
  {
   "cell_type": "code",
   "execution_count": 81,
   "metadata": {},
   "outputs": [],
   "source": [
    "p_out = tf.nn.max_pool2d(x, ksize=2, strides=2, padding='VALID')"
   ]
  },
  {
   "cell_type": "code",
   "execution_count": 82,
   "metadata": {},
   "outputs": [
    {
     "data": {
      "text/plain": [
       "array([[ 6.,  8.],\n",
       "       [14., 16.]], dtype=float32)"
      ]
     },
     "execution_count": 82,
     "metadata": {},
     "output_type": "execute_result"
    }
   ],
   "source": [
    "p_out.numpy().reshape(2, 2)"
   ]
  },
  {
   "attachments": {},
   "cell_type": "markdown",
   "metadata": {},
   "source": [
    "풀링층 통과 전후의 배치 크기와 채널 크기는 동일하다."
   ]
  },
  {
   "attachments": {},
   "cell_type": "markdown",
   "metadata": {},
   "source": [
    "# 8-3 합성곱 신경망의 구조"
   ]
  },
  {
   "attachments": {},
   "cell_type": "markdown",
   "metadata": {},
   "source": [
    "## ReLU 함수\n",
    "* 이전엔 은닉층의 활성화 함수로 시그모이드 함수를 사용, 출력층은 시그모이드(이진분류), 소프트맥스(다중분류) 사용\n",
    "* ReLU 함수: 주로 합성곱층에 적용되는 활성화 함수\n",
    "$$y=\n",
    "\\begin{cases}\n",
    "x & (x > 0) \\\\\n",
    "0 & (x \\leq 0)\n",
    "\\end{cases}\n",
    "$$"
   ]
  },
  {
   "cell_type": "code",
   "execution_count": 83,
   "metadata": {},
   "outputs": [],
   "source": [
    "# ReLU 함수 구현\n",
    "def relu(x):\n",
    "    return np.maximum(x, 0)"
   ]
  },
  {
   "cell_type": "code",
   "execution_count": 84,
   "metadata": {},
   "outputs": [
    {
     "data": {
      "text/plain": [
       "array([0, 2, 0, 4, 0])"
      ]
     },
     "execution_count": 84,
     "metadata": {},
     "output_type": "execute_result"
    }
   ],
   "source": [
    "x = np.array([-1, 2, -3, 4, -5])\n",
    "relu(x)"
   ]
  },
  {
   "cell_type": "code",
   "execution_count": 85,
   "metadata": {},
   "outputs": [
    {
     "data": {
      "text/plain": [
       "array([0, 2, 0, 4, 0])"
      ]
     },
     "execution_count": 85,
     "metadata": {},
     "output_type": "execute_result"
    }
   ],
   "source": [
    "r_out = tf.nn.relu(x)\n",
    "r_out.numpy()"
   ]
  },
  {
   "attachments": {},
   "cell_type": "markdown",
   "metadata": {},
   "source": [
    "## ReLU함수의 도함수\n",
    "$$y=\n",
    "\\begin{cases}\n",
    "1 & (x > 0) \\\\\n",
    "0 & (x \\leq 0)\n",
    "\\end{cases}\n",
    "$$"
   ]
  },
  {
   "attachments": {},
   "cell_type": "markdown",
   "metadata": {},
   "source": [
    "# 8-4 합성곱 신경망 만들어 훈련"
   ]
  },
  {
   "cell_type": "code",
   "execution_count": 138,
   "metadata": {},
   "outputs": [],
   "source": [
    "class ConvolutionNetwork():\n",
    "\n",
    "    def __init__(self, n_kernels=10, units=10, batch_size=32, learning_rate=0.1):\n",
    "        self.n_kernels = n_kernels\n",
    "        self.kernel_size = 3\n",
    "        self.optimizer = None\n",
    "        self.conv_w = None\n",
    "        self.conv_b = None\n",
    "        self.units = units\n",
    "        self.batch_size = batch_size\n",
    "        self.w1 = None\n",
    "        self.b1 = None\n",
    "        self.w2 = None\n",
    "        self.b2 = None\n",
    "        self.a1 = None\n",
    "        self.losses = []\n",
    "        self.val_losses = []\n",
    "        self.lr = learning_rate\n",
    "\n",
    "    def forpass(self, x):\n",
    "        # 3x3 합성곱 연산 수행\n",
    "        c_out = tf.nn.conv2d(x, self.conv_w, strides=1, padding='SAME') + self.conv_b\n",
    "        # relu 함수 적용\n",
    "        r_out = tf.nn.relu(c_out)\n",
    "        # 2x2 최대 풀링 적용\n",
    "        p_out = tf.nn.max_pool2d(r_out, ksize=2, strides=2, padding='VALID')\n",
    "        # 첫 번째 배치 차원을 제외, 출력 펴기\n",
    "        f_out = tf.reshape(p_out, [x.shape[0], -1])\n",
    "        z1 = tf.matmul(f_out, self.w1) + self.b1\n",
    "        a1 = tf.nn.relu(z1)\n",
    "        z2 = tf.matmul(a1, self.w2) + self.b2\n",
    "        return z2\n",
    "\n",
    "    def init_weights(self, input_shape, n_classes):\n",
    "        g = tf.initializers.glorot_uniform()\n",
    "        self.conv_w = tf.Variable(g((3, 3, 1, self.n_kernels)))\n",
    "        self.conv_b = tf.Variable(np.zeros(self.n_kernels), dtype=float)\n",
    "        n_features = 14 * 14 * self.n_kernels\n",
    "        self.w1 = tf.Variable(g((n_features, self.units)))\n",
    "        self.b1 = tf.Variable(np.zeros(self.units), dtype=float)\n",
    "        self.w2 = tf.Variable(g((self.units, n_classes)))\n",
    "        self.b2 = tf.Variable(np.zeros(n_classes), dtype=float)\n",
    "\n",
    "    def fit(self, x, y, epochs=100, x_val=None, y_val=None):\n",
    "        self.init_weights(x.shape, y.shape[1])\n",
    "        self.optimizer = tf.optimizers.SGD(learning_rate=self.lr)\n",
    "        \n",
    "        for i in range(epochs):\n",
    "            print('에포크', i)\n",
    "\n",
    "            batch_losses = []\n",
    "            i = 1\n",
    "            for x_batch, y_batch, in self.gen_batch(x, y):\n",
    "                print(f'진행률: {(i / (len(x) / self.batch_size)) * 100:-4.0f}%', end='')\n",
    "                self.training(x_batch, y_batch)\n",
    "                batch_losses.append(self.get_loss(x_batch, y_batch))\n",
    "                i += 1\n",
    "                print('\\r', end='')\n",
    "            print()\n",
    "            self.losses.append(np.mean(batch_losses))\n",
    "            self.val_losses.append(self.get_loss(x_val, y_val))\n",
    "\n",
    "    def gen_batch(self, x, y):\n",
    "        bins = len(x) // self.batch_size\n",
    "        indexes = np.random.permutation(np.arange(len(x)))\n",
    "        x = x[indexes]\n",
    "        y = y[indexes]\n",
    "        for i in range(bins):\n",
    "            start = self.batch_size * i\n",
    "            end = self.batch_size * (i+1)\n",
    "            yield x[start:end], y[start:end]\n",
    "\n",
    "    def training(self, x, y):\n",
    "        m = len(x)\n",
    "        with tf.GradientTape() as tape:\n",
    "            z = self.forpass(x)\n",
    "            # 손실 함수 계산\n",
    "            loss = tf.nn.softmax_cross_entropy_with_logits(y, z)\n",
    "            loss = tf.reduce_mean(loss)\n",
    "\n",
    "        weights_list = [self.conv_w, self.conv_b, self.w1, self.b1, self.w2, self.b2]\n",
    "        # 가중치에 대한 그레디언트 계산\n",
    "        grads = tape.gradient(loss, weights_list)\n",
    "        # 가중치 업데이트\n",
    "        self.optimizer.apply_gradients(zip(grads, weights_list))\n",
    "\n",
    "    def predict(self, x):\n",
    "        z = self.forpass(x)\n",
    "        return np.argmax(z.numpy(), axis=1)\n",
    "    \n",
    "    def score(self, x, y):\n",
    "        return np.mean(self.predict(x) == np.argmax(y, axis=1))\n",
    "\n",
    "    def get_loss(self, x, y):\n",
    "        z = self.forpass(x)\n",
    "        loss = tf.reduce_mean(tf.nn.softmax_cross_entropy_with_logits(y, z))\n",
    "        return loss.numpy()"
   ]
  },
  {
   "cell_type": "code",
   "execution_count": 147,
   "metadata": {},
   "outputs": [],
   "source": [
    "# 데이터 셋 불러오기\n",
    "(x_train_all, y_train_all), (x_test, y_test) = tf.keras.datasets.fashion_mnist.load_data()"
   ]
  },
  {
   "cell_type": "code",
   "execution_count": 148,
   "metadata": {},
   "outputs": [],
   "source": [
    "# 데이터셋 나누기\n",
    "from sklearn.model_selection import train_test_split\n",
    "x_train, x_val, y_train, y_val = train_test_split(x_train_all, y_train_all,\n",
    "                                        stratify=y_train_all, test_size=0.2,\n",
    "                                        random_state=42)"
   ]
  },
  {
   "cell_type": "code",
   "execution_count": 149,
   "metadata": {},
   "outputs": [],
   "source": [
    "# 원-핫 인코딩\n",
    "y_train_encoded = tf.keras.utils.to_categorical(y_train)\n",
    "y_val_encoded = tf.keras.utils.to_categorical(y_val)"
   ]
  },
  {
   "cell_type": "code",
   "execution_count": 150,
   "metadata": {},
   "outputs": [],
   "source": [
    "# 입력 데이터 준비\n",
    "x_train = x_train.reshape(-1, 28, 28, 1)\n",
    "x_val = x_val.reshape(-1, 28, 28, 1)"
   ]
  },
  {
   "cell_type": "code",
   "execution_count": 151,
   "metadata": {},
   "outputs": [
    {
     "name": "stdout",
     "output_type": "stream",
     "text": [
      "(48000, 28, 28, 1) (12000, 28, 28, 1)\n"
     ]
    }
   ],
   "source": [
    "print(x_train.shape, x_val.shape)"
   ]
  },
  {
   "cell_type": "code",
   "execution_count": 152,
   "metadata": {},
   "outputs": [],
   "source": [
    "# 입력 데이터 표준화\n",
    "x_train = x_train / 255\n",
    "x_val = x_val / 255"
   ]
  },
  {
   "cell_type": "code",
   "execution_count": 154,
   "metadata": {},
   "outputs": [
    {
     "name": "stdout",
     "output_type": "stream",
     "text": [
      "에포크 0\n",
      "진행률:  100%\n",
      "에포크 1\n",
      "진행률:  100%\n",
      "에포크 2\n",
      "진행률:  100%\n",
      "에포크 3\n",
      "진행률:  100%\n",
      "에포크 4\n",
      "진행률:  100%\n",
      "에포크 5\n",
      "진행률:  100%\n",
      "에포크 6\n",
      "진행률:  100%\n",
      "에포크 7\n",
      "진행률:  100%\n",
      "에포크 8\n",
      "진행률:  100%\n",
      "에포크 9\n",
      "진행률:  100%\n",
      "에포크 10\n",
      "진행률:  100%\n",
      "에포크 11\n",
      "진행률:  100%\n",
      "에포크 12\n",
      "진행률:  100%\n",
      "에포크 13\n",
      "진행률:  100%\n",
      "에포크 14\n",
      "진행률:  100%\n",
      "에포크 15\n",
      "진행률:  100%\n",
      "에포크 16\n",
      "진행률:  100%\n",
      "에포크 17\n",
      "진행률:  100%\n",
      "에포크 18\n",
      "진행률:  100%\n",
      "에포크 19\n",
      "진행률:  100%\n"
     ]
    }
   ],
   "source": [
    "# 모델 훈련\n",
    "with tf.device('/GPU:0'):\n",
    "    cn = ConvolutionNetwork(n_kernels=10, units=100, batch_size=128, learning_rate=0.01)\n",
    "    cn.fit(x_train, y_train_encoded, x_val=x_val, y_val=y_val_encoded, epochs=20)"
   ]
  },
  {
   "cell_type": "code",
   "execution_count": 155,
   "metadata": {},
   "outputs": [
    {
     "data": {
      "image/png": "[encoded data removed]",
      "text/plain": [
       "<Figure size 640x480 with 1 Axes>"
      ]
     },
     "metadata": {},
     "output_type": "display_data"
    }
   ],
   "source": [
    "plt.plot(cn.losses)\n",
    "plt.plot(cn.val_losses)\n",
    "plt.ylabel('loss')\n",
    "plt.xlabel('iteration')\n",
    "plt.legend(['train_loss', 'val_loss'])\n",
    "plt.show()"
   ]
  },
  {
   "cell_type": "code",
   "execution_count": 156,
   "metadata": {},
   "outputs": [
    {
     "data": {
      "text/plain": [
       "0.87625"
      ]
     },
     "execution_count": 156,
     "metadata": {},
     "output_type": "execute_result"
    }
   ],
   "source": [
    "cn.score(x_val, y_val_encoded)"
   ]
  },
  {
   "attachments": {},
   "cell_type": "markdown",
   "metadata": {},
   "source": [
    "# 8-5 케라스로 합성곱 신경망 만들기"
   ]
  },
  {
   "cell_type": "code",
   "execution_count": 157,
   "metadata": {},
   "outputs": [],
   "source": [
    "from tensorflow.keras.layers import Conv2D, MaxPool2D, Flatten, Dense"
   ]
  },
  {
   "cell_type": "code",
   "execution_count": 158,
   "metadata": {},
   "outputs": [],
   "source": [
    "# 합성곱층 쌓기\n",
    "conv1 = tf.keras.Sequential()\n",
    "conv1.add(Conv2D(10, (3, 3), activation='relu', padding='same', input_shape=(28, 28, 1)))"
   ]
  },
  {
   "cell_type": "code",
   "execution_count": 160,
   "metadata": {},
   "outputs": [],
   "source": [
    "# 풀링층 쌓기\n",
    "conv1.add(MaxPool2D((2, 2))) # padding 기본값: valid"
   ]
  },
  {
   "cell_type": "code",
   "execution_count": 161,
   "metadata": {},
   "outputs": [],
   "source": [
    "# 특성 맵 펼치기\n",
    "conv1.add(Flatten())"
   ]
  },
  {
   "cell_type": "code",
   "execution_count": 162,
   "metadata": {},
   "outputs": [],
   "source": [
    "# 완전 연결층 쌓기\n",
    "conv1.add(Dense(100, activation='relu'))\n",
    "conv1.add(Dense(10, activation='softmax'))"
   ]
  },
  {
   "cell_type": "code",
   "execution_count": 163,
   "metadata": {},
   "outputs": [
    {
     "name": "stdout",
     "output_type": "stream",
     "text": [
      "Model: \"sequential\"\n",
      "_________________________________________________________________\n",
      "Layer (type)                 Output Shape              Param #   \n",
      "=================================================================\n",
      "conv2d (Conv2D)              (None, 28, 28, 10)        100       \n",
      "_________________________________________________________________\n",
      "max_pooling2d (MaxPooling2D) (None, 14, 14, 10)        0         \n",
      "_________________________________________________________________\n",
      "flatten (Flatten)            (None, 1960)              0         \n",
      "_________________________________________________________________\n",
      "dense (Dense)                (None, 100)               196100    \n",
      "_________________________________________________________________\n",
      "dense_1 (Dense)              (None, 10)                1010      \n",
      "=================================================================\n",
      "Total params: 197,210\n",
      "Trainable params: 197,210\n",
      "Non-trainable params: 0\n",
      "_________________________________________________________________\n"
     ]
    }
   ],
   "source": [
    "# 모델 구조 살펴보기\n",
    "conv1.summary()"
   ]
  },
  {
   "cell_type": "code",
   "execution_count": 164,
   "metadata": {},
   "outputs": [],
   "source": [
    "# 합성곱 신경망 모델 훈련\n",
    "conv1.compile(optimizer='adam', loss='categorical_crossentropy', metrics=['accuracy'])\n"
   ]
  },
  {
   "cell_type": "code",
   "execution_count": 165,
   "metadata": {},
   "outputs": [
    {
     "name": "stdout",
     "output_type": "stream",
     "text": [
      "Epoch 1/20\n",
      "1500/1500 [==============================] - 6s 4ms/step - loss: 0.4494 - accuracy: 0.8411 - val_loss: 0.3252 - val_accuracy: 0.8842\n",
      "Epoch 2/20\n",
      "1500/1500 [==============================] - 5s 3ms/step - loss: 0.3066 - accuracy: 0.8911 - val_loss: 0.2984 - val_accuracy: 0.8946\n",
      "Epoch 3/20\n",
      "1500/1500 [==============================] - 5s 3ms/step - loss: 0.2588 - accuracy: 0.9067 - val_loss: 0.2841 - val_accuracy: 0.8979\n",
      "Epoch 4/20\n",
      "1500/1500 [==============================] - 5s 3ms/step - loss: 0.2291 - accuracy: 0.9167 - val_loss: 0.2630 - val_accuracy: 0.9097\n",
      "Epoch 5/20\n",
      "1500/1500 [==============================] - 10s 7ms/step - loss: 0.1986 - accuracy: 0.9276 - val_loss: 0.2592 - val_accuracy: 0.9123\n",
      "Epoch 6/20\n",
      "1500/1500 [==============================] - 9s 6ms/step - loss: 0.1810 - accuracy: 0.9326 - val_loss: 0.2753 - val_accuracy: 0.9053\n",
      "Epoch 7/20\n",
      "1500/1500 [==============================] - 9s 6ms/step - loss: 0.1609 - accuracy: 0.9394 - val_loss: 0.2654 - val_accuracy: 0.9107\n",
      "Epoch 8/20\n",
      "1500/1500 [==============================] - 9s 6ms/step - loss: 0.1438 - accuracy: 0.9473 - val_loss: 0.2671 - val_accuracy: 0.9119\n",
      "Epoch 9/20\n",
      "1500/1500 [==============================] - 9s 6ms/step - loss: 0.1276 - accuracy: 0.9523 - val_loss: 0.2801 - val_accuracy: 0.9134\n",
      "Epoch 10/20\n",
      "1500/1500 [==============================] - 8s 6ms/step - loss: 0.1126 - accuracy: 0.9590 - val_loss: 0.2764 - val_accuracy: 0.9173\n",
      "Epoch 11/20\n",
      "1500/1500 [==============================] - 9s 6ms/step - loss: 0.1030 - accuracy: 0.9623 - val_loss: 0.3049 - val_accuracy: 0.9124\n",
      "Epoch 12/20\n",
      "1500/1500 [==============================] - 9s 6ms/step - loss: 0.0909 - accuracy: 0.9675 - val_loss: 0.2888 - val_accuracy: 0.9173\n",
      "Epoch 13/20\n",
      "1500/1500 [==============================] - 9s 6ms/step - loss: 0.0808 - accuracy: 0.9701 - val_loss: 0.3024 - val_accuracy: 0.9176\n",
      "Epoch 14/20\n",
      "1500/1500 [==============================] - 9s 6ms/step - loss: 0.0702 - accuracy: 0.9744 - val_loss: 0.3207 - val_accuracy: 0.9138\n",
      "Epoch 15/20\n",
      "1500/1500 [==============================] - 9s 6ms/step - loss: 0.0647 - accuracy: 0.9760 - val_loss: 0.3520 - val_accuracy: 0.9144\n",
      "Epoch 16/20\n",
      "1500/1500 [==============================] - 9s 6ms/step - loss: 0.0547 - accuracy: 0.9806 - val_loss: 0.3395 - val_accuracy: 0.9190\n",
      "Epoch 17/20\n",
      "1500/1500 [==============================] - 10s 6ms/step - loss: 0.0509 - accuracy: 0.9826 - val_loss: 0.3660 - val_accuracy: 0.9176\n",
      "Epoch 18/20\n",
      "1500/1500 [==============================] - 9s 6ms/step - loss: 0.0467 - accuracy: 0.9837 - val_loss: 0.3810 - val_accuracy: 0.9160\n",
      "Epoch 19/20\n",
      "1500/1500 [==============================] - 11s 8ms/step - loss: 0.0389 - accuracy: 0.9863 - val_loss: 0.3922 - val_accuracy: 0.9173\n",
      "Epoch 20/20\n",
      "1500/1500 [==============================] - 11s 7ms/step - loss: 0.0393 - accuracy: 0.9862 - val_loss: 0.4099 - val_accuracy: 0.9177\n"
     ]
    }
   ],
   "source": [
    "# adam(Adaptive Moment Estimation) 옵티마이저: 정응적 학습률 알고리즘\n",
    "history = conv1.fit(x_train, y_train_encoded, epochs=20, validation_data=(x_val, y_val_encoded))\n"
   ]
  },
  {
   "cell_type": "code",
   "execution_count": 166,
   "metadata": {},
   "outputs": [
    {
     "data": {
      "image/png": "[encoded data removed]",
      "text/plain": [
       "<Figure size 640x480 with 1 Axes>"
      ]
     },
     "metadata": {},
     "output_type": "display_data"
    },
    {
     "data": {
      "image/png": "[encoded data removed]",
      "text/plain": [
       "<Figure size 640x480 with 1 Axes>"
      ]
     },
     "metadata": {},
     "output_type": "display_data"
    }
   ],
   "source": [
    "plt.plot(history.history['loss'])\n",
    "plt.plot(history.history['val_loss'])\n",
    "plt.ylabel('loss')\n",
    "plt.xlabel('epoch')\n",
    "plt.legend(['train_loss', 'val_loss'])\n",
    "plt.show()\n",
    "\n",
    "plt.plot(history.history['accuracy'])\n",
    "plt.plot(history.history['val_accuracy'])\n",
    "plt.ylabel('accuracy')\n",
    "plt.xlabel('epoch')\n",
    "plt.legend(['train_accuracy', 'val_accuracy'])\n",
    "plt.show()"
   ]
  },
  {
   "attachments": {},
   "cell_type": "markdown",
   "metadata": {},
   "source": [
    "정확도와 손실을 그래프로 그려보니 몇 번의 에포크 만에 검증 손실이 크게 증가했다. 이는 과대적합이 일찍 발생했음을 의미한다."
   ]
  },
  {
   "attachments": {},
   "cell_type": "markdown",
   "metadata": {},
   "source": [
    "## 드롭아웃\n",
    "* 신경망에서 과대적합을 줄이는 방법 중 1하나\n",
    "* 무작위로 뉴런을 비활성화 시킨다. -> 특정 뉴런에 과도하게 의존하여 훈련하는 것을 막는다. -> 일반화 성능이 좋아진다.\n",
    "* 모델을 훈련시킬때만 쓰기 때문에 테스트와 실전의 출력값을 드롭아웃 비율만큼 낮춰야 한다."
   ]
  },
  {
   "attachments": {},
   "cell_type": "markdown",
   "metadata": {},
   "source": [
    "## 드롭아웃이 적용된 합성곱 신경망 구현\n",
    "* 간단히 Dropout 클래스 추가"
   ]
  },
  {
   "cell_type": "code",
   "execution_count": 167,
   "metadata": {},
   "outputs": [],
   "source": [
    "from tensorflow.keras.layers import Dropout\n",
    "\n",
    "conv2 = tf.keras.Sequential()\n",
    "conv2.add(Conv2D(10, (3, 3), activation='relu', padding='same', input_shape=(28, 28, 1)))\n",
    "conv2.add(MaxPool2D((2, 2)))\n",
    "conv2.add(Flatten())\n",
    "conv2.add(Dropout(0.5))\n",
    "conv2.add(Dense(100, activation='relu'))\n",
    "conv2.add(Dense(10, activation='softmax'))"
   ]
  },
  {
   "cell_type": "code",
   "execution_count": 168,
   "metadata": {},
   "outputs": [
    {
     "name": "stdout",
     "output_type": "stream",
     "text": [
      "Model: \"sequential_1\"\n",
      "_________________________________________________________________\n",
      "Layer (type)                 Output Shape              Param #   \n",
      "=================================================================\n",
      "conv2d_1 (Conv2D)            (None, 28, 28, 10)        100       \n",
      "_________________________________________________________________\n",
      "max_pooling2d_1 (MaxPooling2 (None, 14, 14, 10)        0         \n",
      "_________________________________________________________________\n",
      "flatten_1 (Flatten)          (None, 1960)              0         \n",
      "_________________________________________________________________\n",
      "dropout (Dropout)            (None, 1960)              0         \n",
      "_________________________________________________________________\n",
      "dense_2 (Dense)              (None, 100)               196100    \n",
      "_________________________________________________________________\n",
      "dense_3 (Dense)              (None, 10)                1010      \n",
      "=================================================================\n",
      "Total params: 197,210\n",
      "Trainable params: 197,210\n",
      "Non-trainable params: 0\n",
      "_________________________________________________________________\n"
     ]
    }
   ],
   "source": [
    "conv2.summary()"
   ]
  },
  {
   "cell_type": "code",
   "execution_count": 169,
   "metadata": {},
   "outputs": [
    {
     "name": "stdout",
     "output_type": "stream",
     "text": [
      "Epoch 1/20\n",
      "1500/1500 [==============================] - 6s 4ms/step - loss: 0.5260 - accuracy: 0.8083 - val_loss: 0.3670 - val_accuracy: 0.8643\n",
      "Epoch 2/20\n",
      "1500/1500 [==============================] - 7s 5ms/step - loss: 0.3728 - accuracy: 0.8622 - val_loss: 0.3018 - val_accuracy: 0.8928\n",
      "Epoch 3/20\n",
      "1500/1500 [==============================] - 5s 3ms/step - loss: 0.3304 - accuracy: 0.8781 - val_loss: 0.2819 - val_accuracy: 0.9003\n",
      "Epoch 4/20\n",
      "1500/1500 [==============================] - 5s 3ms/step - loss: 0.3036 - accuracy: 0.8878 - val_loss: 0.2700 - val_accuracy: 0.9022\n",
      "Epoch 5/20\n",
      "1500/1500 [==============================] - 5s 3ms/step - loss: 0.2868 - accuracy: 0.8926 - val_loss: 0.2564 - val_accuracy: 0.9062\n",
      "Epoch 6/20\n",
      "1500/1500 [==============================] - 5s 3ms/step - loss: 0.2704 - accuracy: 0.8982 - val_loss: 0.2492 - val_accuracy: 0.9078\n",
      "Epoch 7/20\n",
      "1500/1500 [==============================] - 5s 3ms/step - loss: 0.2590 - accuracy: 0.9036 - val_loss: 0.2547 - val_accuracy: 0.9047\n",
      "Epoch 8/20\n",
      "1500/1500 [==============================] - 5s 3ms/step - loss: 0.2469 - accuracy: 0.9076 - val_loss: 0.2423 - val_accuracy: 0.9096\n",
      "Epoch 9/20\n",
      "1500/1500 [==============================] - 5s 3ms/step - loss: 0.2383 - accuracy: 0.9120 - val_loss: 0.2351 - val_accuracy: 0.9136\n",
      "Epoch 10/20\n",
      "1500/1500 [==============================] - 5s 3ms/step - loss: 0.2299 - accuracy: 0.9141 - val_loss: 0.2413 - val_accuracy: 0.9143\n",
      "Epoch 11/20\n",
      "1500/1500 [==============================] - 5s 3ms/step - loss: 0.2221 - accuracy: 0.9161 - val_loss: 0.2394 - val_accuracy: 0.9144\n",
      "Epoch 12/20\n",
      "1500/1500 [==============================] - 5s 3ms/step - loss: 0.2183 - accuracy: 0.9176 - val_loss: 0.2337 - val_accuracy: 0.9150\n",
      "Epoch 13/20\n",
      "1500/1500 [==============================] - 5s 3ms/step - loss: 0.2061 - accuracy: 0.9212 - val_loss: 0.2327 - val_accuracy: 0.9163\n",
      "Epoch 14/20\n",
      "1500/1500 [==============================] - 5s 3ms/step - loss: 0.2044 - accuracy: 0.9227 - val_loss: 0.2431 - val_accuracy: 0.9122\n",
      "Epoch 15/20\n",
      "1500/1500 [==============================] - 5s 3ms/step - loss: 0.2025 - accuracy: 0.9238 - val_loss: 0.2354 - val_accuracy: 0.9153\n",
      "Epoch 16/20\n",
      "1500/1500 [==============================] - 5s 3ms/step - loss: 0.1979 - accuracy: 0.9241 - val_loss: 0.2371 - val_accuracy: 0.9153\n",
      "Epoch 17/20\n",
      "1500/1500 [==============================] - 5s 4ms/step - loss: 0.1897 - accuracy: 0.9285 - val_loss: 0.2321 - val_accuracy: 0.9182\n",
      "Epoch 18/20\n",
      "1500/1500 [==============================] - 5s 3ms/step - loss: 0.1875 - accuracy: 0.9273 - val_loss: 0.2422 - val_accuracy: 0.9149\n",
      "Epoch 19/20\n",
      "1500/1500 [==============================] - 5s 4ms/step - loss: 0.1866 - accuracy: 0.9291 - val_loss: 0.2370 - val_accuracy: 0.9182\n",
      "Epoch 20/20\n",
      "1500/1500 [==============================] - 5s 4ms/step - loss: 0.1800 - accuracy: 0.9314 - val_loss: 0.2342 - val_accuracy: 0.9177\n"
     ]
    }
   ],
   "source": [
    "conv2.compile(optimizer='adam', loss='categorical_crossentropy', metrics=['accuracy'])\n",
    "history = conv2.fit(x_train, y_train_encoded, epochs=20, validation_data=(x_val, y_val_encoded))"
   ]
  },
  {
   "cell_type": "code",
   "execution_count": 170,
   "metadata": {},
   "outputs": [
    {
     "data": {
      "image/png": "[encoded data removed]",
      "text/plain": [
       "<Figure size 640x480 with 1 Axes>"
      ]
     },
     "metadata": {},
     "output_type": "display_data"
    },
    {
     "data": {
      "image/png": "[encoded data removed]",
      "text/plain": [
       "<Figure size 640x480 with 1 Axes>"
      ]
     },
     "metadata": {},
     "output_type": "display_data"
    }
   ],
   "source": [
    "plt.plot(history.history['loss'])\n",
    "plt.plot(history.history['val_loss'])\n",
    "plt.ylabel('loss')\n",
    "plt.xlabel('epoch')\n",
    "plt.legend(['train_loss', 'val_loss'])\n",
    "plt.show()\n",
    "\n",
    "plt.plot(history.history['accuracy'])\n",
    "plt.plot(history.history['val_accuracy'])\n",
    "plt.ylabel('accuracy')\n",
    "plt.xlabel('epoch')\n",
    "plt.legend(['train_accuracy', 'val_accuracy'])\n",
    "plt.show()"
   ]
  },
  {
   "cell_type": "code",
   "execution_count": 175,
   "metadata": {},
   "outputs": [
    {
     "data": {
      "text/plain": [
       "0.9176666666666666"
      ]
     },
     "execution_count": 175,
     "metadata": {},
     "output_type": "execute_result"
    }
   ],
   "source": [
    "np.sum(np.argmax(conv2.predict(x_val), axis=1) == y_val) / len(x_val)"
   ]
  },
  {
   "cell_type": "code",
   "execution_count": null,
   "metadata": {},
   "outputs": [],
   "source": []
  }
 ],
 "metadata": {
  "kernelspec": {
   "display_name": "tf2",
   "language": "python",
   "name": "python3"
  },
  "language_info": {
   "codemirror_mode": {
    "name": "ipython",
    "version": 3
   },
   "file_extension": ".py",
   "mimetype": "text/x-python",
   "name": "python",
   "nbconvert_exporter": "python",
   "pygments_lexer": "ipython3",
   "version": "3.8.13"
  },
  "orig_nbformat": 4,
  "vscode": {
   "interpreter": {
    "hash": "e86f425da1fde591ca0bab614e0be3b61e20029dc5f600bc20b1539437b4103e"
   }
  }
 },
 "nbformat": 4,
 "nbformat_minor": 2
}
