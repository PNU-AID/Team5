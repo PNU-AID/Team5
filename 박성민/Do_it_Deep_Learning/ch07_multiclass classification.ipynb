{
 "cells": [
  {
   "attachments": {},
   "cell_type": "markdown",
   "metadata": {},
   "source": [
    "# 7-1 여러 개의 이미지를 분류하는 다층 신경망"
   ]
  },
  {
   "cell_type": "code",
   "execution_count": 1,
   "metadata": {},
   "outputs": [],
   "source": [
    "import numpy as np\n",
    "import matplotlib.pyplot as plt"
   ]
  },
  {
   "cell_type": "code",
   "execution_count": 34,
   "metadata": {},
   "outputs": [],
   "source": [
    "class MultiClassNetwork:\n",
    "    def __init__(self, units=10, batch_size=32, learning_rate=0.1, l1=0, l2=0) -> None:\n",
    "        self.units = units\n",
    "        self.batch_size = batch_size\n",
    "        self.w1 = None\n",
    "        self.b1 = None\n",
    "        self.w2 = None\n",
    "        self.b2 = None\n",
    "        self.a1 = None\n",
    "        self.losses = []\n",
    "        self.val_losses = []\n",
    "        self.lr = learning_rate\n",
    "        self.l1 = l1\n",
    "        self.l2 = l2\n",
    "\n",
    "    def forpass(self, x):\n",
    "        z1 = np.dot(x, self.w1) + self.b1\n",
    "        self.a1 = self.sigmoid(z1)\n",
    "        z2 = np.dot(self.a1, self.w2) + self.b2\n",
    "        return z2\n",
    "\n",
    "    def backprop(self, x, err):\n",
    "        m = len(x)\n",
    "        w2_grad = np.dot(self.a1.T, err) / m\n",
    "        b2_grad = np.sum(err) / m\n",
    "\n",
    "        err_to_hidden = np.dot(err, self.w2.T) * self.a1 * (1 - self.a1)\n",
    "\n",
    "        w1_grad = np.dot(x.T, err_to_hidden) / m\n",
    "        b1_grad = np.sum(err_to_hidden, axis=0) / m\n",
    "        return w1_grad, b1_grad, w2_grad, b2_grad\n",
    "\n",
    "    def sigmoid(self, z):\n",
    "        z = np.clip(z, -100, None)\n",
    "        a = 1 / (1 + np.exp(-z))\n",
    "        return a\n",
    "\n",
    "    def softmax(slef, z):\n",
    "        z = np.clip(z, -100, None)\n",
    "        exp_z = np.exp(z)\n",
    "        return exp_z / np.sum(exp_z, axis=1).reshape(-1, 1)\n",
    "\n",
    "    def init_weight(self, n_features, n_classes):\n",
    "        self.w1 = np.random.normal(0, 1, (n_features, self.units))\n",
    "        self.b1 = np.zeros(self.units)\n",
    "        self.w2 = np.random.normal(0, 1, (self.units, n_classes))\n",
    "        self.b2 = np.zeros(n_classes)\n",
    "\n",
    "    def fit(self, x, y, epochs=100, x_val=None, y_val=None):\n",
    "        np.random.seed(42)\n",
    "        self.init_weight(x.shape[1], y.shape[1])\n",
    "\n",
    "        for i in range(epochs):\n",
    "            loss = 0\n",
    "\n",
    "            for x_batch, y_batch in self.gen_batch(x, y):\n",
    "                a = self.training(x_batch, y_batch)\n",
    "\n",
    "                a = np.clip(a, 1e-10, 1-1e-10)\n",
    "                \n",
    "                loss += np.sum(-y_batch*np.log(a))\n",
    "\n",
    "            self.losses.append((loss + self.reg_loss()) / len(x))\n",
    "\n",
    "            self.update_val_loss(x_val, y_val)\n",
    "\n",
    "            print(f'epoch: {i+1} / {epochs}')\n",
    "\n",
    "    def gen_batch(self, x, y):\n",
    "        length = len(x)\n",
    "        bins = length // self.batch_size\n",
    "        if length % self.batch_size:\n",
    "            bins += 1\n",
    "        indexes = np.random.permutation(np.arange(len(x)))\n",
    "        x = x[indexes]\n",
    "        y = y[indexes]\n",
    "        for i in range(bins):\n",
    "            start = self.batch_size * i\n",
    "            end = self.batch_size * (i + 1)\n",
    "            yield x[start:end], y[start:end]\n",
    "\n",
    "    def training(self, x, y):\n",
    "        m = len(x)\n",
    "        z = self.forpass(x)\n",
    "        a = self.softmax(z)\n",
    "        err = -(y - a)\n",
    "\n",
    "        w1_grad, b1_grad, w2_grad, b2_grad = self.backprop(x, err)\n",
    "\n",
    "        w1_grad += (self.l1 * np.sign(self.w1) + self.l2 * self.w1) / m\n",
    "        w2_grad += (self.l1 * np.sign(self.w2) + self.l2 * self.w2) / m\n",
    "\n",
    "        self.w1 -= self.lr * w1_grad\n",
    "        self.w2 -= self.lr * w2_grad\n",
    "        return a\n",
    "\n",
    "    def predict(self, x):\n",
    "        z = self.forpass(x)\n",
    "        return np.argmax(z, axis=1)\n",
    "\n",
    "    def score(self, x, y):\n",
    "        return np.mean(self.predict(x) == np.argmax(y, axis=1))\n",
    "\n",
    "    def reg_loss(self):\n",
    "        return self.l1 * (np.sum(np.abs(self.w1)) + np.sum(np.abs(self.w2))) + \\\n",
    "               self.l2 / 2 * (np.sum(self.w1**2) + np.sum(self.w2**2))\n",
    "\n",
    "    def update_val_loss(self, x_val, y_val):\n",
    "        z = self.forpass(x_val)\n",
    "        a = self.softmax(z)\n",
    "        a = np.clip(a, 1e-10, 1-1e-10)\n",
    "\n",
    "        val_loss = np.sum(-y_val*np.log(a))\n",
    "        self.val_losses.append((val_loss + self.reg_loss()) / len(y_val))\n"
   ]
  },
  {
   "cell_type": "code",
   "execution_count": 5,
   "metadata": {},
   "outputs": [
    {
     "data": {
      "text/plain": [
       "'2.6.1'"
      ]
     },
     "execution_count": 5,
     "metadata": {},
     "output_type": "execute_result"
    }
   ],
   "source": [
    "import tensorflow as tf\n",
    "tf.__version__"
   ]
  },
  {
   "cell_type": "code",
   "execution_count": 6,
   "metadata": {},
   "outputs": [],
   "source": [
    "(x_train_all, y_train_all), (x_test, y_test) = tf.keras.datasets.fashion_mnist.load_data()"
   ]
  },
  {
   "cell_type": "code",
   "execution_count": 7,
   "metadata": {},
   "outputs": [
    {
     "name": "stdout",
     "output_type": "stream",
     "text": [
      "(60000, 28, 28) (60000,)\n"
     ]
    }
   ],
   "source": [
    "print(x_train_all.shape, y_train_all.shape)"
   ]
  },
  {
   "cell_type": "code",
   "execution_count": 8,
   "metadata": {},
   "outputs": [
    {
     "data": {
      "text/plain": [
       "<matplotlib.image.AxesImage at 0x227a5b77c70>"
      ]
     },
     "execution_count": 8,
     "metadata": {},
     "output_type": "execute_result"
    },
    {
     "data": {
      "image/png": "[encoded data removed]",
      "text/plain": [
       "<Figure size 640x480 with 1 Axes>"
      ]
     },
     "metadata": {},
     "output_type": "display_data"
    }
   ],
   "source": [
    "plt.imshow(x_train_all[0], cmap='gray')\n"
   ]
  },
  {
   "cell_type": "code",
   "execution_count": 10,
   "metadata": {},
   "outputs": [],
   "source": [
    "class_names = ['티셔츠/윗도리', '바지', '스웨터', '드레스', \n",
    "               '코트', '샌들', '셔츠', '스니커즈', '가방', '앵클부츠']"
   ]
  },
  {
   "cell_type": "code",
   "execution_count": 11,
   "metadata": {},
   "outputs": [
    {
     "name": "stdout",
     "output_type": "stream",
     "text": [
      "앵클부츠\n"
     ]
    }
   ],
   "source": [
    "print(class_names[y_train_all[0]])"
   ]
  },
  {
   "cell_type": "code",
   "execution_count": 12,
   "metadata": {},
   "outputs": [
    {
     "data": {
      "text/plain": [
       "array([6000, 6000, 6000, 6000, 6000, 6000, 6000, 6000, 6000, 6000],\n",
       "      dtype=int64)"
      ]
     },
     "execution_count": 12,
     "metadata": {},
     "output_type": "execute_result"
    }
   ],
   "source": [
    "np.bincount(y_train_all)"
   ]
  },
  {
   "cell_type": "code",
   "execution_count": 13,
   "metadata": {},
   "outputs": [],
   "source": [
    "from sklearn.model_selection import train_test_split\n",
    "\n",
    "x_train, x_val, y_train, y_val = train_test_split(x_train_all, y_train_all, \n",
    "    stratify=y_train_all, test_size=0.2, random_state=42)\n"
   ]
  },
  {
   "cell_type": "code",
   "execution_count": 16,
   "metadata": {},
   "outputs": [
    {
     "name": "stdout",
     "output_type": "stream",
     "text": [
      "[4800 4800 4800 4800 4800 4800 4800 4800 4800 4800]\n",
      "[1200 1200 1200 1200 1200 1200 1200 1200 1200 1200]\n"
     ]
    }
   ],
   "source": [
    "print(np.bincount(y_train))\n",
    "print(np.bincount(y_val))"
   ]
  },
  {
   "cell_type": "code",
   "execution_count": 17,
   "metadata": {},
   "outputs": [],
   "source": [
    "# 정규화 하기\n",
    "x_train = x_train / 255\n",
    "x_val = x_val / 255"
   ]
  },
  {
   "cell_type": "code",
   "execution_count": 18,
   "metadata": {},
   "outputs": [],
   "source": [
    "# 훈련세트, 검증세트 차원 변경(flatten)\n",
    "x_train = x_train.reshape(-1, 784)\n",
    "x_val = x_val.reshape(-1, 784)"
   ]
  },
  {
   "cell_type": "code",
   "execution_count": 19,
   "metadata": {},
   "outputs": [
    {
     "name": "stdout",
     "output_type": "stream",
     "text": [
      "(48000, 784) (12000, 784)\n"
     ]
    }
   ],
   "source": [
    "print(x_train.shape, x_val.shape)"
   ]
  },
  {
   "cell_type": "code",
   "execution_count": 20,
   "metadata": {},
   "outputs": [],
   "source": [
    "# 타깃 원-핫 인코딩 변환\n",
    "y_train_encoded = tf.keras.utils.to_categorical(y_train)\n",
    "y_val_encoded = tf.keras.utils.to_categorical(y_val)"
   ]
  },
  {
   "cell_type": "code",
   "execution_count": 23,
   "metadata": {},
   "outputs": [
    {
     "name": "stdout",
     "output_type": "stream",
     "text": [
      "(48000, 10) (12000, 10)\n"
     ]
    }
   ],
   "source": [
    "print(y_train_encoded.shape, y_val_encoded.shape)"
   ]
  },
  {
   "cell_type": "code",
   "execution_count": 35,
   "metadata": {},
   "outputs": [
    {
     "name": "stdout",
     "output_type": "stream",
     "text": [
      "epoch: 1 / 40\n",
      "epoch: 2 / 40\n",
      "epoch: 3 / 40\n",
      "epoch: 4 / 40\n",
      "epoch: 5 / 40\n",
      "epoch: 6 / 40\n",
      "epoch: 7 / 40\n",
      "epoch: 8 / 40\n",
      "epoch: 9 / 40\n",
      "epoch: 10 / 40\n",
      "epoch: 11 / 40\n",
      "epoch: 12 / 40\n",
      "epoch: 13 / 40\n",
      "epoch: 14 / 40\n",
      "epoch: 15 / 40\n",
      "epoch: 16 / 40\n",
      "epoch: 17 / 40\n",
      "epoch: 18 / 40\n",
      "epoch: 19 / 40\n",
      "epoch: 20 / 40\n",
      "epoch: 21 / 40\n",
      "epoch: 22 / 40\n",
      "epoch: 23 / 40\n",
      "epoch: 24 / 40\n",
      "epoch: 25 / 40\n",
      "epoch: 26 / 40\n",
      "epoch: 27 / 40\n",
      "epoch: 28 / 40\n",
      "epoch: 29 / 40\n",
      "epoch: 30 / 40\n",
      "epoch: 31 / 40\n",
      "epoch: 32 / 40\n",
      "epoch: 33 / 40\n",
      "epoch: 34 / 40\n",
      "epoch: 35 / 40\n",
      "epoch: 36 / 40\n",
      "epoch: 37 / 40\n",
      "epoch: 38 / 40\n",
      "epoch: 39 / 40\n",
      "epoch: 40 / 40\n"
     ]
    }
   ],
   "source": [
    "# MultiClassNetwork 클래스로 다중 분류 신경망 훈련\n",
    "fc = MultiClassNetwork(units=100, batch_size=256)\n",
    "fc.fit(x_train, y_train_encoded, x_val=x_val, y_val=y_val_encoded, epochs=40)"
   ]
  },
  {
   "cell_type": "code",
   "execution_count": 37,
   "metadata": {},
   "outputs": [
    {
     "data": {
      "image/png": "[encoded data removed]",
      "text/plain": [
       "<Figure size 640x480 with 1 Axes>"
      ]
     },
     "metadata": {},
     "output_type": "display_data"
    }
   ],
   "source": [
    "plt.plot(fc.losses, alpha=0.7)\n",
    "plt.plot(fc.val_losses, alpha=0.7)\n",
    "plt.ylabel('loss')\n",
    "plt.xlabel('iteration')\n",
    "plt.legend(['train_loss', 'val_loss'])\n",
    "plt.show()"
   ]
  },
  {
   "cell_type": "code",
   "execution_count": 39,
   "metadata": {},
   "outputs": [
    {
     "data": {
      "text/plain": [
       "0.81475"
      ]
     },
     "execution_count": 39,
     "metadata": {},
     "output_type": "execute_result"
    }
   ],
   "source": [
    "fc.score(x_val, y_val_encoded)"
   ]
  },
  {
   "attachments": {},
   "cell_type": "markdown",
   "metadata": {},
   "source": [
    "# 7-2 텐서플로와 케라스를 사용한 신경망"
   ]
  },
  {
   "cell_type": "code",
   "execution_count": null,
   "metadata": {},
   "outputs": [],
   "source": [
    "# 훈련할 가중치 변수 선언\n",
    "w = tf.Variable(tf.zeros(shape=(1)))\n",
    "b = tf.Variable(tf.zeros(shape=(1)))\n",
    "\n",
    "# 경사 하강법 옵티마이저\n",
    "optimizer = tf.optimizers.SGD(lr = 0.01)\n",
    "\n",
    "#에포크\n",
    "num_epochs = 10\n",
    "for step in range(num_epochs):\n",
    "\n",
    "    # 자동 미분\n",
    "    with tf.GradientTape() as tape:\n",
    "        z_net = w * x_train + b\n",
    "        z_net = tf.reshape(z_net, [-1])\n",
    "        sqr_errors = tf.square(y_train - z_net)\n",
    "        mean_cost = tf.reduce_mean(sqr_errors)\n",
    "    \n",
    "    grads = tape.gradient(mean_cost, [w, b])\n",
    "    optimizer.apply_gradients(zip(grads, [w, b]))"
   ]
  },
  {
   "cell_type": "code",
   "execution_count": 42,
   "metadata": {},
   "outputs": [
    {
     "name": "stdout",
     "output_type": "stream",
     "text": [
      "Epoch 1/10\n",
      "1500/1500 [==============================] - 4s 1ms/step - loss: nan\n",
      "Epoch 2/10\n",
      "1500/1500 [==============================] - 2s 1ms/step - loss: nan\n",
      "Epoch 3/10\n",
      "1500/1500 [==============================] - 2s 1ms/step - loss: nan\n",
      "Epoch 4/10\n",
      "1500/1500 [==============================] - 2s 1ms/step - loss: nan\n",
      "Epoch 5/10\n",
      "1500/1500 [==============================] - 2s 1ms/step - loss: nan\n",
      "Epoch 6/10\n",
      "1500/1500 [==============================] - 2s 1ms/step - loss: nan\n",
      "Epoch 7/10\n",
      "1500/1500 [==============================] - 2s 1ms/step - loss: nan\n",
      "Epoch 8/10\n",
      "1500/1500 [==============================] - 2s 2ms/step - loss: nan\n",
      "Epoch 9/10\n",
      "1500/1500 [==============================] - 2s 1ms/step - loss: nan\n",
      "Epoch 10/10\n",
      "1500/1500 [==============================] - 2s 1ms/step - loss: nan\n"
     ]
    },
    {
     "data": {
      "text/plain": [
       "<keras.callbacks.History at 0x227d28594c0>"
      ]
     },
     "execution_count": 42,
     "metadata": {},
     "output_type": "execute_result"
    }
   ],
   "source": [
    "# 위 신경망을 케라스로 구현\n",
    "model = tf.keras.models.Sequential()\n",
    "model.add(tf.keras.layers.Dense(1))\n",
    "model.compile(optimizer='sgd', loss='mse')\n",
    "model.fit(x_train, y_train, epochs=10)"
   ]
  },
  {
   "cell_type": "code",
   "execution_count": null,
   "metadata": {},
   "outputs": [],
   "source": [
    "from tensorflow.keras import Sequential\n",
    "from tensorflow.keras.layers import Dense\n",
    "# Sequential 객체 층 추가 예시\n",
    "# 1\n",
    "model = Sequential([Dense(...), ...])\n",
    "# 2\n",
    "dense = Dense(...)\n",
    "model.add(dense)\n",
    "# 3\n",
    "model = Sequential()\n",
    "model.add(Dense(...))\n",
    "model.add(Dense(...))"
   ]
  },
  {
   "attachments": {},
   "cell_type": "markdown",
   "metadata": {},
   "source": [
    "Dense 클래스 사용법\n",
    "* unit: 뉴런의 개수 지정\n",
    "* activation: ghkftjdghk gkatn wlwjd"
   ]
  },
  {
   "attachments": {},
   "cell_type": "markdown",
   "metadata": {},
   "source": [
    "Sequential 클래스의 compile 함수\n",
    "* optimizer: 최적화 방법(경사 하강법, ...)\n",
    "* loss: 손실 함수 지정(제곱 오차, 로지스틱, 크로스 엔트로피, ...)\n",
    "  "
   ]
  },
  {
   "attachments": {},
   "cell_type": "markdown",
   "metadata": {},
   "source": [
    "Sequential 클래스\n",
    "* fit(): 모델 훈련\n",
    "* predict(): 에측\n",
    "* evaluate(): 검증, 테스트 세트 평가 시"
   ]
  },
  {
   "cell_type": "code",
   "execution_count": 45,
   "metadata": {},
   "outputs": [],
   "source": [
    "from tensorflow.keras import Sequential\n",
    "from tensorflow.keras.layers import Dense"
   ]
  },
  {
   "cell_type": "code",
   "execution_count": 48,
   "metadata": {},
   "outputs": [],
   "source": [
    "# 케라스로 다중 분류 신경망 만들기\n",
    "model = Sequential()\n",
    "# 은닉층, 출력층 추가\n",
    "model.add(Dense(100, activation='sigmoid', input_shape=(784, )))\n",
    "model.add(Dense(10, activation='softmax'))\n",
    "# 최적화 알고리즘, 손실 함수 지정\n",
    "# metrics 매개변수는 훈련하며 기록한 정보를 History 객체에 담아 반환해줌\n",
    "model.compile(optimizer='sgd', loss='categorical_crossentropy', metrics=['accuracy'])"
   ]
  },
  {
   "cell_type": "code",
   "execution_count": 49,
   "metadata": {},
   "outputs": [
    {
     "name": "stdout",
     "output_type": "stream",
     "text": [
      "Epoch 1/40\n",
      "1500/1500 [==============================] - 4s 2ms/step - loss: 1.3645 - accuracy: 0.6474 - val_loss: 0.9645 - val_accuracy: 0.7258\n",
      "Epoch 2/40\n",
      "1500/1500 [==============================] - 3s 2ms/step - loss: 0.8477 - accuracy: 0.7412 - val_loss: 0.7564 - val_accuracy: 0.7578\n",
      "Epoch 3/40\n",
      "1500/1500 [==============================] - 3s 2ms/step - loss: 0.7174 - accuracy: 0.7602 - val_loss: 0.6691 - val_accuracy: 0.7780\n",
      "Epoch 4/40\n",
      "1500/1500 [==============================] - 3s 2ms/step - loss: 0.6520 - accuracy: 0.7771 - val_loss: 0.6169 - val_accuracy: 0.7880\n",
      "Epoch 5/40\n",
      "1500/1500 [==============================] - 3s 2ms/step - loss: 0.6093 - accuracy: 0.7895 - val_loss: 0.5806 - val_accuracy: 0.8011\n",
      "Epoch 6/40\n",
      "1500/1500 [==============================] - 3s 2ms/step - loss: 0.5783 - accuracy: 0.8005 - val_loss: 0.5557 - val_accuracy: 0.8074\n",
      "Epoch 7/40\n",
      "1500/1500 [==============================] - 3s 2ms/step - loss: 0.5547 - accuracy: 0.8087 - val_loss: 0.5334 - val_accuracy: 0.8157\n",
      "Epoch 8/40\n",
      "1500/1500 [==============================] - 3s 2ms/step - loss: 0.5361 - accuracy: 0.8139 - val_loss: 0.5158 - val_accuracy: 0.8225\n",
      "Epoch 9/40\n",
      "1500/1500 [==============================] - 3s 2ms/step - loss: 0.5209 - accuracy: 0.8197 - val_loss: 0.5019 - val_accuracy: 0.8253\n",
      "Epoch 10/40\n",
      "1500/1500 [==============================] - 3s 2ms/step - loss: 0.5081 - accuracy: 0.8245 - val_loss: 0.4919 - val_accuracy: 0.8292\n",
      "Epoch 11/40\n",
      "1500/1500 [==============================] - 3s 2ms/step - loss: 0.4978 - accuracy: 0.8278 - val_loss: 0.4816 - val_accuracy: 0.8317\n",
      "Epoch 12/40\n",
      "1500/1500 [==============================] - 3s 2ms/step - loss: 0.4888 - accuracy: 0.8305 - val_loss: 0.4730 - val_accuracy: 0.8342\n",
      "Epoch 13/40\n",
      "1500/1500 [==============================] - 3s 2ms/step - loss: 0.4807 - accuracy: 0.8319 - val_loss: 0.4659 - val_accuracy: 0.8358\n",
      "Epoch 14/40\n",
      "1500/1500 [==============================] - 3s 2ms/step - loss: 0.4737 - accuracy: 0.8353 - val_loss: 0.4601 - val_accuracy: 0.8382\n",
      "Epoch 15/40\n",
      "1500/1500 [==============================] - 3s 2ms/step - loss: 0.4672 - accuracy: 0.8367 - val_loss: 0.4533 - val_accuracy: 0.8407\n",
      "Epoch 16/40\n",
      "1500/1500 [==============================] - 3s 2ms/step - loss: 0.4614 - accuracy: 0.8385 - val_loss: 0.4484 - val_accuracy: 0.8416\n",
      "Epoch 17/40\n",
      "1500/1500 [==============================] - 3s 2ms/step - loss: 0.4559 - accuracy: 0.8399 - val_loss: 0.4468 - val_accuracy: 0.8422\n",
      "Epoch 18/40\n",
      "1500/1500 [==============================] - 3s 2ms/step - loss: 0.4514 - accuracy: 0.8415 - val_loss: 0.4390 - val_accuracy: 0.8462\n",
      "Epoch 19/40\n",
      "1500/1500 [==============================] - 3s 2ms/step - loss: 0.4467 - accuracy: 0.8431 - val_loss: 0.4362 - val_accuracy: 0.8455\n",
      "Epoch 20/40\n",
      "1500/1500 [==============================] - 3s 2ms/step - loss: 0.4426 - accuracy: 0.8448 - val_loss: 0.4330 - val_accuracy: 0.8470\n",
      "Epoch 21/40\n",
      "1500/1500 [==============================] - 3s 2ms/step - loss: 0.4386 - accuracy: 0.8460 - val_loss: 0.4285 - val_accuracy: 0.8496\n",
      "Epoch 22/40\n",
      "1500/1500 [==============================] - 3s 2ms/step - loss: 0.4349 - accuracy: 0.8471 - val_loss: 0.4239 - val_accuracy: 0.8512\n",
      "Epoch 23/40\n",
      "1500/1500 [==============================] - 3s 2ms/step - loss: 0.4313 - accuracy: 0.8480 - val_loss: 0.4228 - val_accuracy: 0.8515\n",
      "Epoch 24/40\n",
      "1500/1500 [==============================] - 3s 2ms/step - loss: 0.4279 - accuracy: 0.8497 - val_loss: 0.4200 - val_accuracy: 0.8520\n",
      "Epoch 25/40\n",
      "1500/1500 [==============================] - 3s 2ms/step - loss: 0.4250 - accuracy: 0.8501 - val_loss: 0.4163 - val_accuracy: 0.8540\n",
      "Epoch 26/40\n",
      "1500/1500 [==============================] - 3s 2ms/step - loss: 0.4218 - accuracy: 0.8518 - val_loss: 0.4131 - val_accuracy: 0.8555\n",
      "Epoch 27/40\n",
      "1500/1500 [==============================] - 3s 2ms/step - loss: 0.4190 - accuracy: 0.8526 - val_loss: 0.4111 - val_accuracy: 0.8551\n",
      "Epoch 28/40\n",
      "1500/1500 [==============================] - 3s 2ms/step - loss: 0.4160 - accuracy: 0.8533 - val_loss: 0.4096 - val_accuracy: 0.8540\n",
      "Epoch 29/40\n",
      "1500/1500 [==============================] - 3s 2ms/step - loss: 0.4138 - accuracy: 0.8541 - val_loss: 0.4056 - val_accuracy: 0.8583\n",
      "Epoch 30/40\n",
      "1500/1500 [==============================] - 3s 2ms/step - loss: 0.4110 - accuracy: 0.8545 - val_loss: 0.4057 - val_accuracy: 0.8551\n",
      "Epoch 31/40\n",
      "1500/1500 [==============================] - 3s 2ms/step - loss: 0.4087 - accuracy: 0.8554 - val_loss: 0.4033 - val_accuracy: 0.8576\n",
      "Epoch 32/40\n",
      "1500/1500 [==============================] - 3s 2ms/step - loss: 0.4063 - accuracy: 0.8568 - val_loss: 0.4012 - val_accuracy: 0.8575\n",
      "Epoch 33/40\n",
      "1500/1500 [==============================] - 3s 2ms/step - loss: 0.4042 - accuracy: 0.8570 - val_loss: 0.3984 - val_accuracy: 0.8597\n",
      "Epoch 34/40\n",
      "1500/1500 [==============================] - 3s 2ms/step - loss: 0.4020 - accuracy: 0.8581 - val_loss: 0.3978 - val_accuracy: 0.8609\n",
      "Epoch 35/40\n",
      "1500/1500 [==============================] - 3s 2ms/step - loss: 0.3998 - accuracy: 0.8589 - val_loss: 0.3983 - val_accuracy: 0.8577\n",
      "Epoch 36/40\n",
      "1500/1500 [==============================] - 3s 2ms/step - loss: 0.3979 - accuracy: 0.8599 - val_loss: 0.3954 - val_accuracy: 0.8608\n",
      "Epoch 37/40\n",
      "1500/1500 [==============================] - 3s 2ms/step - loss: 0.3957 - accuracy: 0.8603 - val_loss: 0.3925 - val_accuracy: 0.8616\n",
      "Epoch 38/40\n",
      "1500/1500 [==============================] - 3s 2ms/step - loss: 0.3940 - accuracy: 0.8611 - val_loss: 0.3911 - val_accuracy: 0.8620\n",
      "Epoch 39/40\n",
      "1500/1500 [==============================] - 3s 2ms/step - loss: 0.3921 - accuracy: 0.8616 - val_loss: 0.3896 - val_accuracy: 0.8633\n",
      "Epoch 40/40\n",
      "1500/1500 [==============================] - 3s 2ms/step - loss: 0.3901 - accuracy: 0.8621 - val_loss: 0.3894 - val_accuracy: 0.8642\n"
     ]
    }
   ],
   "source": [
    "history = model.fit(x_train, y_train_encoded, epochs=40,\n",
    "    validation_data=(x_val, y_val_encoded))"
   ]
  },
  {
   "cell_type": "code",
   "execution_count": 55,
   "metadata": {},
   "outputs": [
    {
     "name": "stdout",
     "output_type": "stream",
     "text": [
      "dict_keys(['loss', 'accuracy', 'val_loss', 'val_accuracy'])\n"
     ]
    },
    {
     "data": {
      "image/png": "[encoded data removed]",
      "text/plain": [
       "<Figure size 640x480 with 1 Axes>"
      ]
     },
     "metadata": {},
     "output_type": "display_data"
    },
    {
     "data": {
      "image/png": "[encoded data removed]",
      "text/plain": [
       "<Figure size 640x480 with 1 Axes>"
      ]
     },
     "metadata": {},
     "output_type": "display_data"
    }
   ],
   "source": [
    "# 손실, 정확도 그래프 그리기\n",
    "print(history.history.keys())\n",
    "\n",
    "plt.plot(history.history['loss'])\n",
    "plt.plot(history.history['val_loss'])\n",
    "plt.ylabel('loss')\n",
    "plt.xlabel('epoch')\n",
    "plt.legend(['trai_loss', 'val_loss'])\n",
    "plt.show()\n",
    "\n",
    "plt.plot(history.history['accuracy'])\n",
    "plt.plot(history.history['val_accuracy'])\n",
    "plt.ylabel('accuracy')\n",
    "plt.xlabel('epoch')\n",
    "plt.legend(['trai_accuracy', 'val_accuracy'])\n",
    "plt.show()"
   ]
  },
  {
   "cell_type": "code",
   "execution_count": 56,
   "metadata": {},
   "outputs": [
    {
     "name": "stdout",
     "output_type": "stream",
     "text": [
      "0.8641666769981384\n"
     ]
    }
   ],
   "source": [
    "# 검증 세트 정확도 계산\n",
    "loss, accuracy = model.evaluate(x_val, y_val_encoded, verbose=0)\n",
    "print(accuracy)"
   ]
  }
 ],
 "metadata": {
  "kernelspec": {
   "display_name": "tf2",
   "language": "python",
   "name": "python3"
  },
  "language_info": {
   "codemirror_mode": {
    "name": "ipython",
    "version": 3
   },
   "file_extension": ".py",
   "mimetype": "text/x-python",
   "name": "python",
   "nbconvert_exporter": "python",
   "pygments_lexer": "ipython3",
   "version": "3.8.13"
  },
  "orig_nbformat": 4,
  "vscode": {
   "interpreter": {
    "hash": "e86f425da1fde591ca0bab614e0be3b61e20029dc5f600bc20b1539437b4103e"
   }
  }
 },
 "nbformat": 4,
 "nbformat_minor": 2
}
