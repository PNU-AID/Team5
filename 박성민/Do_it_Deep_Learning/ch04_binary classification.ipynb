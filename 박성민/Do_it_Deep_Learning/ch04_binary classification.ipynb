{
 "cells": [
  {
   "attachments": {},
   "cell_type": "markdown",
   "metadata": {},
   "source": [
    "# 4-1 초기 인공지능 알고리즘과 로지스틱 회귀"
   ]
  },
  {
   "attachments": {},
   "cell_type": "markdown",
   "metadata": {},
   "source": [
    "## 퍼셉트론\n",
    "* $$z=b+\\sum_{i=1}^{n}w_ix_i$$\n",
    "* 활성화 함수로는 계산 함수를 사용\n",
    "* 계단 함수의 결과를 역방향 계산하는데 쓴다."
   ]
  },
  {
   "attachments": {},
   "cell_type": "markdown",
   "metadata": {},
   "source": [
    "## 아달린\n",
    "* 퍼셉트론을 개선한 적응형 선형 뉴런(Adaptive Linear Neuron)\n",
    "* 퍼셉트론과 다르게 선형 함수 출력 이후에 역방향 계산이 일어남"
   ]
  },
  {
   "attachments": {},
   "cell_type": "markdown",
   "metadata": {},
   "source": [
    "## 로지스틱 회귀\n",
    "* logistic regression 아달린에서 조금 더 발전한 형태\n",
    "* 활성화 함수 사용\n",
    "* 퍼셉트론의 계단 함수와 비슷한 임계 함수 사용, 임계 함수는 입력으로 활서오하 함수의 출력을 받음\n",
    "* 활성화 함수는 비선형 함수 사용"
   ]
  },
  {
   "attachments": {},
   "cell_type": "markdown",
   "metadata": {},
   "source": [
    "# 4-2 시그모이드 함수"
   ]
  },
  {
   "attachments": {},
   "cell_type": "markdown",
   "metadata": {},
   "source": [
    "## 시그모이드 함수의 역할\n",
    "* 로지스틱 회귀의 활성화 함수로 사용\n",
    "* 시그모이드 함수를 통과하면 확률이 나온다."
   ]
  },
  {
   "attachments": {},
   "cell_type": "markdown",
   "metadata": {},
   "source": [
    "## 시그모이드 함수 만들어지는 과정\n",
    "* 오즈 비 > 로짓 함수 > 시그모이드 함수"
   ]
  },
  {
   "attachments": {},
   "cell_type": "markdown",
   "metadata": {},
   "source": [
    "### 오즈 비\n",
    "$$OR(odds ratio)=\\frac{p}{1-p}(p = 성공 확률)$$"
   ]
  },
  {
   "attachments": {},
   "cell_type": "markdown",
   "metadata": {},
   "source": [
    "### 로짓 함수\n",
    "$$logit(p) = \\log(\\frac{p}{1-p})$$\n",
    "$$z = \\log(\\frac{p}{1-p})$$\n",
    "p=0.5 일때 0이되고 p가 0과 1로 갈 수록 무한대로 음수와 양수가 됨"
   ]
  },
  {
   "attachments": {},
   "cell_type": "markdown",
   "metadata": {},
   "source": [
    "### 시그모이드 함수\n",
    "로짓 함수에서 z에 대해 정리\n",
    "$$p = \\frac{1}{1+e^{-z}}$$\n",
    "S자 형태의 그래프"
   ]
  },
  {
   "attachments": {},
   "cell_type": "markdown",
   "metadata": {},
   "source": [
    "## 중간 정리\n",
    "선형 회귀에서 손실 함수로 제곱 오차를 사용했듯 로지스틱 회귀를 위한 로지스틱 손실 함수가 있다."
   ]
  },
  {
   "attachments": {},
   "cell_type": "markdown",
   "metadata": {},
   "source": [
    "# 4-3 로지스틱 손실 함수를 경사 하강법에 적용"
   ]
  },
  {
   "attachments": {},
   "cell_type": "markdown",
   "metadata": {},
   "source": [
    "## 로지스틱 손실 함수\n",
    "다중 분류를 위한 손실 함수 크로스 엔트로피(cross entropy) 손실 함수의 이진 분류 버전\n",
    "$$L=-(y\\log(a) + (1-y)\\log(1-a))\\\\\n",
    "y: 타깃값, a: 활성화 함수 출력값$$"
   ]
  },
  {
   "attachments": {},
   "cell_type": "markdown",
   "metadata": {},
   "source": [
    "## 로지스틱 손실 함수 미분\n",
    "\n",
    "$$\n",
    "\\frac{\\partial}{\\partial w_i}L = -(y-a)x_i \\\\\n",
    "\\frac{\\partial}{\\partial b}L = -(y-a)1 \\\\\n",
    "$$"
   ]
  },
  {
   "attachments": {},
   "cell_type": "markdown",
   "metadata": {},
   "source": [
    "### 유도과정\n",
    "연쇄법칙(chain rule)사용\n",
    "$$\n",
    "\\frac{\\partial L}{\\partial w_i} = \\frac{\\partial L}{\\partial a} \\frac{\\partial a}{\\partial z} \\frac{\\partial z}{\\partial w_i} \\\\\n",
    "\\frac{\\partial L}{\\partial a} = -(y\\frac{1}{a} -(1-y)\\frac{1}{1-a}) \\\\\n",
    "\\frac{\\partial a}{\\partial z} = a(1-a) \\\\\n",
    "\\frac{\\partial z}{\\partial w_i} = x_i\n",
    "$$"
   ]
  },
  {
   "attachments": {},
   "cell_type": "markdown",
   "metadata": {},
   "source": [
    "## 역전파로 가중치와 절편 업데이트\n",
    "* 가중치 업데이트\n",
    "$$w_i = w_i +(y-a)x_i$$\n",
    "* 절편 업데이트\n",
    "$$b = b +(y-a)1$$"
   ]
  },
  {
   "attachments": {},
   "cell_type": "markdown",
   "metadata": {},
   "source": [
    "# 4-4 분류용 데이터 셋 준비"
   ]
  },
  {
   "attachments": {},
   "cell_type": "markdown",
   "metadata": {},
   "source": [
    "## 유방암 데이터 셋\n",
    "* 특징 10개에 대하여 평균, 표준 오차, 최대 이상치 기록\n",
    "* 이진 분류 문제\n"
   ]
  },
  {
   "attachments": {},
   "cell_type": "markdown",
   "metadata": {},
   "source": [
    "## 데이터 셋 준비"
   ]
  },
  {
   "cell_type": "code",
   "execution_count": 8,
   "metadata": {},
   "outputs": [],
   "source": [
    "import numpy as np\n",
    "import matplotlib.pyplot as plt"
   ]
  },
  {
   "cell_type": "code",
   "execution_count": 4,
   "metadata": {},
   "outputs": [],
   "source": [
    "# load_breast_cancer() 함수로 데이터 셋 불러오기\n",
    "from sklearn.datasets import load_breast_cancer\n",
    "cancer = load_breast_cancer()"
   ]
  },
  {
   "cell_type": "code",
   "execution_count": 6,
   "metadata": {},
   "outputs": [
    {
     "name": "stdout",
     "output_type": "stream",
     "text": [
      "(569, 30) (569,)\n"
     ]
    }
   ],
   "source": [
    "# 입력 데이터 확인\n",
    "print(cancer.data.shape, cancer.target.shape)"
   ]
  },
  {
   "attachments": {},
   "cell_type": "markdown",
   "metadata": {},
   "source": [
    "569개의 샘플과 30개의 특성"
   ]
  },
  {
   "cell_type": "code",
   "execution_count": 7,
   "metadata": {},
   "outputs": [
    {
     "name": "stdout",
     "output_type": "stream",
     "text": [
      "[[1.799e+01 1.038e+01 1.228e+02 1.001e+03 1.184e-01 2.776e-01 3.001e-01\n",
      "  1.471e-01 2.419e-01 7.871e-02 1.095e+00 9.053e-01 8.589e+00 1.534e+02\n",
      "  6.399e-03 4.904e-02 5.373e-02 1.587e-02 3.003e-02 6.193e-03 2.538e+01\n",
      "  1.733e+01 1.846e+02 2.019e+03 1.622e-01 6.656e-01 7.119e-01 2.654e-01\n",
      "  4.601e-01 1.189e-01]\n",
      " [2.057e+01 1.777e+01 1.329e+02 1.326e+03 8.474e-02 7.864e-02 8.690e-02\n",
      "  7.017e-02 1.812e-01 5.667e-02 5.435e-01 7.339e-01 3.398e+00 7.408e+01\n",
      "  5.225e-03 1.308e-02 1.860e-02 1.340e-02 1.389e-02 3.532e-03 2.499e+01\n",
      "  2.341e+01 1.588e+02 1.956e+03 1.238e-01 1.866e-01 2.416e-01 1.860e-01\n",
      "  2.750e-01 8.902e-02]\n",
      " [1.969e+01 2.125e+01 1.300e+02 1.203e+03 1.096e-01 1.599e-01 1.974e-01\n",
      "  1.279e-01 2.069e-01 5.999e-02 7.456e-01 7.869e-01 4.585e+00 9.403e+01\n",
      "  6.150e-03 4.006e-02 3.832e-02 2.058e-02 2.250e-02 4.571e-03 2.357e+01\n",
      "  2.553e+01 1.525e+02 1.709e+03 1.444e-01 4.245e-01 4.504e-01 2.430e-01\n",
      "  3.613e-01 8.758e-02]]\n"
     ]
    }
   ],
   "source": [
    "# 데이터 3개 출력\n",
    "print(cancer.data[:3])"
   ]
  },
  {
   "cell_type": "code",
   "execution_count": 13,
   "metadata": {},
   "outputs": [
    {
     "data": {
      "image/png": "[encoded data removed]",
      "text/plain": [
       "<Figure size 800x400 with 1 Axes>"
      ]
     },
     "metadata": {},
     "output_type": "display_data"
    }
   ],
   "source": [
    "# 박스 플롯으로 특성 사분위 관찰\n",
    "plt.figure(figsize=(8,4))\n",
    "plt.boxplot(cancer.data)\n",
    "plt.xlabel('feature')\n",
    "plt.ylabel('value')\n",
    "plt.show()"
   ]
  },
  {
   "cell_type": "code",
   "execution_count": 16,
   "metadata": {},
   "outputs": [
    {
     "data": {
      "text/plain": [
       "array(['mean area', 'area error', 'worst area'], dtype='<U23')"
      ]
     },
     "execution_count": 16,
     "metadata": {},
     "output_type": "execute_result"
    }
   ],
   "source": [
    "# 눈에 띄는 특성 살펴보기(4, 14, 24번째 특성)\n",
    "cancer.feature_names[[3, 13, 23]]\n",
    "# 3개의 특성 모두 넓이와 관련된 특성임"
   ]
  },
  {
   "cell_type": "code",
   "execution_count": 20,
   "metadata": {},
   "outputs": [
    {
     "data": {
      "text/plain": [
       "(array([0, 1]), array([212, 357], dtype=int64))"
      ]
     },
     "execution_count": 20,
     "metadata": {},
     "output_type": "execute_result"
    }
   ],
   "source": [
    "# 타깃 데이터 확인\n",
    "np.unique(cancer.target, return_counts=True)\n",
    "# 0은 음성 데이터(암x) - 212개, 1은 양성 데이터(암o) - 357개"
   ]
  },
  {
   "cell_type": "code",
   "execution_count": 21,
   "metadata": {},
   "outputs": [],
   "source": [
    "# 훈련 데이터 셋 저장\n",
    "x = cancer.data\n",
    "y = cancer.target"
   ]
  },
  {
   "attachments": {},
   "cell_type": "markdown",
   "metadata": {},
   "source": [
    "# 4-5 로지스틱 회귀 뉴런"
   ]
  },
  {
   "attachments": {},
   "cell_type": "markdown",
   "metadata": {},
   "source": [
    "## 모델 성능 평가를 위한 훈련 세트와 테스트 세트\n",
    "규칙\n",
    "* 테스트 세트보다 훈련 세트가 많아야 한다.\n",
    "* 훈련 데이터 세트를 나누기 전에 양성, 음성 클래스가 훈련 세트나 테스트 세트의 어느 한쪽에 몰리지 않도록 골고루 섞어야 한다."
   ]
  },
  {
   "attachments": {},
   "cell_type": "markdown",
   "metadata": {},
   "source": [
    "## 훈련 세트와 테스트 세트 나누기\n",
    "훈련 세트와 테스트 세트에 양성과 음성의 비율이 일정하게 나뉘어야 한다."
   ]
  },
  {
   "cell_type": "code",
   "execution_count": 22,
   "metadata": {},
   "outputs": [],
   "source": [
    "from sklearn.model_selection import train_test_split"
   ]
  },
  {
   "cell_type": "code",
   "execution_count": 23,
   "metadata": {},
   "outputs": [],
   "source": [
    "x_train, x_test, y_train, y_test = train_test_split(x, y, stratify=y, test_size=0.2, random_state=42)"
   ]
  },
  {
   "attachments": {},
   "cell_type": "markdown",
   "metadata": {},
   "source": [
    "* stratify=y\n",
    "  * 훈련 데이트를 나눌 때 클래스 비율을 동일하게 한다.\n",
    "* test_size=0.2\n",
    "  * 테스트 세트의 비율 설정\n",
    "* random_state=42\n",
    "  * 무작위로 데이터 세트를 섞은 다음 나누는 결과 일정하게 함"
   ]
  },
  {
   "cell_type": "code",
   "execution_count": 24,
   "metadata": {},
   "outputs": [
    {
     "name": "stdout",
     "output_type": "stream",
     "text": [
      "(455, 30) (114, 30)\n"
     ]
    }
   ],
   "source": [
    "# 결과 확인\n",
    "print(x_train.shape, x_test.shape)"
   ]
  },
  {
   "cell_type": "code",
   "execution_count": 25,
   "metadata": {},
   "outputs": [
    {
     "data": {
      "text/plain": [
       "(array([0, 1]), array([170, 285], dtype=int64))"
      ]
     },
     "execution_count": 25,
     "metadata": {},
     "output_type": "execute_result"
    }
   ],
   "source": [
    "# 훈련 세트의 타깃 확인\n",
    "np.unique(y_train, return_counts=True)"
   ]
  },
  {
   "attachments": {},
   "cell_type": "markdown",
   "metadata": {},
   "source": [
    "## 로지스틱 회귀 구현"
   ]
  },
  {
   "cell_type": "code",
   "execution_count": 27,
   "metadata": {},
   "outputs": [],
   "source": [
    "class LogisticNeuron:\n",
    "    # 3장에서 구현한 뉴런과 다르게 가중치와 절편을 초기화 하지 않는다.\n",
    "    def __init__(self):\n",
    "        self.w = None\n",
    "        self.b = None\n",
    "\n",
    "    # 넘파이 함수를 상용한다.\n",
    "    def forpass(self, x):\n",
    "        z = np.sum(x * self.w) + self.b\n",
    "        return z\n",
    "\n",
    "    def backprop(self, x, err):\n",
    "        w_grad = x * err\n",
    "        b_grad = 1 * err\n",
    "        return w_grad, b_grad"
   ]
  },
  {
   "attachments": {},
   "cell_type": "markdown",
   "metadata": {},
   "source": [
    "## 훈련 메서드 구현"
   ]
  },
  {
   "cell_type": "code",
   "execution_count": 28,
   "metadata": {},
   "outputs": [],
   "source": [
    "def fit(self, x, y, epochs=100):\n",
    "    self.w = np.ones(x.shape[1])\n",
    "    self.b = 0\n",
    "    for i in range(epochs):\n",
    "        for x_i, y_i in zip(x, y):\n",
    "            # 정방향 계산\n",
    "            z = self.forpass(x_i)\n",
    "            # 활성화 함수 적용\n",
    "            a = self.activation(z)\n",
    "            # 오차 계산\n",
    "            err = -(y_i - a)\n",
    "            # 역방향 계산\n",
    "            w_grad, b_grad = self.backprop(x_i, err)\n",
    "            # 가중치, 절편 업데이트\n",
    "            self.w -= w_grad\n",
    "            self.b -= b_grad"
   ]
  },
  {
   "cell_type": "code",
   "execution_count": 29,
   "metadata": {},
   "outputs": [],
   "source": [
    "# activation() 메서드 구현(시그모이드 함수 사용)\n",
    "def activation(self, z):\n",
    "    a = 1 / (1 + np.exp(-z))\n",
    "    return a"
   ]
  },
  {
   "attachments": {},
   "cell_type": "markdown",
   "metadata": {},
   "source": [
    "## 예측 메서드 구현"
   ]
  },
  {
   "cell_type": "code",
   "execution_count": 30,
   "metadata": {},
   "outputs": [],
   "source": [
    "# predict() 메서드 구현\n",
    "def predict(self, x):\n",
    "    # 선형 함수 적용\n",
    "    z = [self.forpass(x_i) for x_i in x]\n",
    "    # 활성화 함수 적용\n",
    "    a = self.activation(np.array(z))\n",
    "    # 계단 함수 적용\n",
    "    return a > 0.5"
   ]
  },
  {
   "attachments": {},
   "cell_type": "markdown",
   "metadata": {},
   "source": [
    "## 구현 정리"
   ]
  },
  {
   "cell_type": "code",
   "execution_count": 33,
   "metadata": {},
   "outputs": [],
   "source": [
    "class LogisticNeuron:\n",
    "    # 3장에서 구현한 뉴런과 다르게 가중치와 절편을 초기화 하지 않는다.\n",
    "    def __init__(self):\n",
    "        self.w = None\n",
    "        self.b = None\n",
    "\n",
    "    # 넘파이 함수를 상용한다.\n",
    "    def forpass(self, x):\n",
    "        z = np.sum(x * self.w) + self.b\n",
    "        return z\n",
    "\n",
    "    def backprop(self, x, err):\n",
    "        w_grad = x * err\n",
    "        b_grad = 1 * err\n",
    "        return w_grad, b_grad\n",
    "    \n",
    "    def fit(self, x, y, epochs=100):\n",
    "        self.w = np.ones(x.shape[1])\n",
    "        self.b = 0\n",
    "        for i in range(epochs):\n",
    "            for x_i, y_i in zip(x, y):\n",
    "                # 정방향 계산\n",
    "                z = self.forpass(x_i)\n",
    "                # 활성화 함수 적용\n",
    "                a = self.activation(z)\n",
    "                # 오차 계산\n",
    "                err = -(y_i - a)\n",
    "                # 역방향 계산\n",
    "                w_grad, b_grad = self.backprop(x_i, err)\n",
    "                # 가중치, 절편 업데이트\n",
    "                self.w -= w_grad\n",
    "                self.b -= b_grad\n",
    "\n",
    "    def activation(self, z):\n",
    "        # 오버플로우 방지를 위해 적용\n",
    "        z = np.clip(z, -100, None)\n",
    "        a = 1 / (1 + np.exp(-z))\n",
    "        return a\n",
    "\n",
    "    def predict(self, x):\n",
    "        # 선형 함수 적용\n",
    "        z = [self.forpass(x_i) for x_i in x]\n",
    "        # 활성화 함수 적용\n",
    "        a = self.activation(np.array(z))\n",
    "        # 계단 함수 적용\n",
    "        return a > 0.5"
   ]
  },
  {
   "attachments": {},
   "cell_type": "markdown",
   "metadata": {},
   "source": [
    "## 모델 훈련"
   ]
  },
  {
   "cell_type": "code",
   "execution_count": 34,
   "metadata": {},
   "outputs": [],
   "source": [
    "neuron = LogisticNeuron()\n",
    "neuron.fit(x_train, y_train)"
   ]
  },
  {
   "cell_type": "code",
   "execution_count": 36,
   "metadata": {},
   "outputs": [
    {
     "data": {
      "text/plain": [
       "0.8245614035087719"
      ]
     },
     "execution_count": 36,
     "metadata": {},
     "output_type": "execute_result"
    }
   ],
   "source": [
    "# 테스트 세트로 모델 정확도 평가\n",
    "np.mean(neuron.predict(x_test) == y_test)"
   ]
  },
  {
   "cell_type": "code",
   "execution_count": null,
   "metadata": {},
   "outputs": [],
   "source": []
  }
 ],
 "metadata": {
  "kernelspec": {
   "display_name": "tf2",
   "language": "python",
   "name": "python3"
  },
  "language_info": {
   "codemirror_mode": {
    "name": "ipython",
    "version": 3
   },
   "file_extension": ".py",
   "mimetype": "text/x-python",
   "name": "python",
   "nbconvert_exporter": "python",
   "pygments_lexer": "ipython3",
   "version": "3.8.13"
  },
  "orig_nbformat": 4,
  "vscode": {
   "interpreter": {
    "hash": "e86f425da1fde591ca0bab614e0be3b61e20029dc5f600bc20b1539437b4103e"
   }
  }
 },
 "nbformat": 4,
 "nbformat_minor": 2
}
