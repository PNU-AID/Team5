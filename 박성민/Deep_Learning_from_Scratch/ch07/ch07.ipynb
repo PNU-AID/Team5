{
 "cells": [
  {
   "attachments": {},
   "cell_type": "markdown",
   "metadata": {},
   "source": [
    "# 합성곱 신경망(CNN)\n",
    "이미지, 음성 인식 등 다양한 곳에 상용됨."
   ]
  },
  {
   "attachments": {},
   "cell_type": "markdown",
   "metadata": {},
   "source": [
    "## 전체 구조\n",
    "* 기존: (Affine -> ReLu) => (Affine -> ReLu) => (Affine -> Softmax)\n",
    "* CNN: (Conv -> ReLu -> Pooling) => (Conv -> ReLu -> Pooling) => (Affine -> ReLu) => (Affine -> Softmax)"
   ]
  },
  {
   "attachments": {},
   "cell_type": "markdown",
   "metadata": {},
   "source": [
    "## 합성곱 계층\n",
    "* 패딩(padding)\n",
    "* 스트라이드(sride)"
   ]
  },
  {
   "attachments": {},
   "cell_type": "markdown",
   "metadata": {},
   "source": [
    "### 완전연결 계층의 문제점\n",
    "* '데이터의 형상이 무시'됨 \n",
    "* 이미지는 3차원 형상이어서 공간적 정보가 담겨 있지만 형상을 무시하고 모든 입력 데이터를 동등한 뉴런(같은 차원의 뉴런)으로 취급하여 형상에 담긴 정볼르 살릴 수 없다.\n",
    "* CNN에선 합성곱 계층의 입출력 데이터를 **특징 맵(feature map)**이라고 함."
   ]
  },
  {
   "attachments": {},
   "cell_type": "markdown",
   "metadata": {},
   "source": [
    "### 합성곱 연산\n",
    "* **합성곱 연산**: 이미지 처리에서 말하는 **필터 연산**\n",
    "  * 필터의 **윈도우**를 일정 간격으로 이동해가며 입력 데이터에 적용한다.\n",
    "* 필터는 문헌에 따라 커널이라 불리기도 한다.\n",
    "* 편향도 포함할 수 있다."
   ]
  },
  {
   "attachments": {},
   "cell_type": "markdown",
   "metadata": {},
   "source": [
    "### 패딩(padding)\n",
    "* 입력 데이터 주위에 0을 채움\n",
    "* 주로 출력 크기를 조정할 목적으로 사용됨\n",
    "  * (4, 4)에 필터 (3, 3)을 적용하면 출력으로 (2, 2)크기의 특징 맵이 나오는데 합성곱 연산을 몇 번 반복하면 너무 작아지기 때문에 문제가 될 수 있다.\n",
    "  * 입력 데이터의 공간적 크기를 고정한 채로 다음 계층에 전달할 수 있다."
   ]
  },
  {
   "attachments": {},
   "cell_type": "markdown",
   "metadata": {},
   "source": [
    "### 스트라이드(stride)\n",
    "* 윈도우가 이동하는 칸 수 \n",
    "* 커지면 출력 크기가 작아진다."
   ]
  },
  {
   "attachments": {},
   "cell_type": "markdown",
   "metadata": {},
   "source": [
    "### 3차원 데이터의 합성곱 연산\n",
    "* 입력 데이터의 채널 수와 필터의 채널 수가 같아야 한다.\n",
    "* 출력으로 다수의 채널을 내보내려면 필터(가중치)를 다수 사용하면 된다."
   ]
  },
  {
   "attachments": {},
   "cell_type": "markdown",
   "metadata": {},
   "source": [
    "## 풀링(Pooling) 계층\n",
    "* 세로 * 가로 방향의 공간을 줄이는 연산이다.\n",
    "* 풀링의 윈도우 크기와 스트라이드는 같은 값으로 설정하는 것이 보통이다.\n",
    "* 딥러닝 모델의 높은 정확도를 위해서 많은 필터를 사용하는데 이를 많이 사용하면 특징 맵이 늘어나고 이는 파라미터의 수를 늘린다. 이렇게 되면 오버피팅과 속도에 문제가 생길 수 있다. 때문에 차원의 크기를 감소시켜주기 위해 pooling 계층을 사용한다.\n",
    "* 종류\n",
    "  * 최대 풀링(max pooling): 해당 영역의 최댓값 계산\n",
    "  * 평균 풀링(average pooling): 해당 영역의 평균값 계산\n",
    "* 특징\n",
    "  * 학습해야 할 매개변수가 없다.\n",
    "  * 채널 수가 변하지 않는다.\n",
    "  * 입력의 변화에 영향을 적게 받는다.\n",
    "    * 입력 데이터가 조금 변해도 풀링 결과는 잘 변하지 않는다."
   ]
  },
  {
   "attachments": {},
   "cell_type": "markdown",
   "metadata": {},
   "source": [
    "## 합성곱/풀링 계층 구현"
   ]
  },
  {
   "cell_type": "code",
   "execution_count": 1,
   "metadata": {},
   "outputs": [],
   "source": [
    "import numpy as np\n",
    "import matplotlib.pyplot as plt"
   ]
  },
  {
   "attachments": {},
   "cell_type": "markdown",
   "metadata": {},
   "source": [
    "### 4차원 배열"
   ]
  },
  {
   "cell_type": "code",
   "execution_count": 2,
   "metadata": {},
   "outputs": [
    {
     "data": {
      "text/plain": [
       "(10, 1, 28, 28)"
      ]
     },
     "execution_count": 2,
     "metadata": {},
     "output_type": "execute_result"
    }
   ],
   "source": [
    "x = np.random.rand(10, 1, 28, 28)\n",
    "x.shape"
   ]
  },
  {
   "cell_type": "code",
   "execution_count": 4,
   "metadata": {},
   "outputs": [
    {
     "data": {
      "image/png": "[encoded data removed]",
      "text/plain": [
       "<Figure size 640x480 with 1 Axes>"
      ]
     },
     "metadata": {},
     "output_type": "display_data"
    }
   ],
   "source": [
    "plt.imshow(x[0, 0], cmap='Greys')\n",
    "plt.show()"
   ]
  },
  {
   "attachments": {},
   "cell_type": "markdown",
   "metadata": {},
   "source": [
    "### im2col\n",
    "* 합성곱을 구현하려면 중첩 for문을 사용해야 하는데 이는 속도를 저하시킨다. \n",
    "* 이를 해 3차원의 데이터를 1차원으로 만들어 연산을 빠르게 하는게 목적이다.\n",
    "* [자세한 설명](https://welcome-to-dewy-world.tistory.com/94)"
   ]
  },
  {
   "attachments": {},
   "cell_type": "markdown",
   "metadata": {},
   "source": [
    "## CNN 구현"
   ]
  },
  {
   "cell_type": "code",
   "execution_count": 7,
   "metadata": {},
   "outputs": [],
   "source": [
    "from collections import OrderedDict\n",
    "import sys, os\n",
    "sys.path.append(os.pardir)\n",
    "\n",
    "from common.layers import *\n",
    "\n",
    "class SimpleConvNet:\n",
    "    def __init__(self, input_dim=(1, 28, 28),\n",
    "                 conv_param = {'filter_num':30, 'filter_size':5, 'pad':0, 'stride':1},\n",
    "                 hidden_size=100, output_size=10, weight_init_std=0.01):\n",
    "        self.filter_num = conv_param['filter_num']\n",
    "        self.filter_size = conv_param['filter_size']\n",
    "        self.filter_pad = conv_param['pad']\n",
    "        self.filter_stride = conv_param['stride']\n",
    "        self.input_size = input_dim[1]\n",
    "        self.conv_output_size = (self.input_size - self.filter_size + 2*self.filter_pad) / self.filter_stride + 1\n",
    "        self.pool_output_size = int(self.filter_num * (self.conv_output_size/2) * (self.conv_output_size/2))\n",
    "\n",
    "        self.params = {}\n",
    "        self.params['W1'] = weight_init_std * np.random.randn(self.filter_num, input_dim[0], self.filter_size, self.filter_size)\n",
    "        self.params['b1'] = np.zeros(self.filter_num)\n",
    "        self.params['W2'] = weight_init_std * np.random.randn(self.pool_output_size, hidden_size)\n",
    "        self.params['b2'] = np.zeros(hidden_size)\n",
    "        self.params['W3'] = weight_init_std * np.random.randn(hidden_size, output_size)\n",
    "        self.params['b3'] = np.zeros(output_size)\n",
    "\n",
    "        self.layers = OrderedDict()\n",
    "        self.layers['Conv1'] = Convolution(self.params['W1'], self.params['b1'], conv_param['stride'], conv_param['pad'])\n",
    "        self.layers['Relu1'] = Relu()\n",
    "        self.layers['Pool1'] = Pooling(pool_h=2, pool_w=2, stride=2)\n",
    "        self.layers['Affine1'] = Affine(self.params['W2'], self.params['b2'])\n",
    "        self.layers['Relu2'] = Relu()\n",
    "        self.layers['Affine2'] = Affine(self.params['W3'], self.params['b3'])\n",
    "\n",
    "        self.last_layer = SoftmaxWithLoss()\n",
    "\n",
    "    def predict(self, x):\n",
    "        for layer in self.layers.values():\n",
    "            x = layer.forward(x)\n",
    "        return x\n",
    "\n",
    "    def loss(self, x, t):\n",
    "        y = self.predict(x)\n",
    "        return self.last_layer.forward(y, t)\n",
    "\n",
    "    def gradient(self, x, t):\n",
    "        self.loss(x, t)\n",
    "\n",
    "        dout = 1\n",
    "        dout = self.last_layer.backward(dout)\n",
    "\n",
    "        layers = list(self.layers.values())\n",
    "        layers.reverse()\n",
    "        for layer in layers:\n",
    "            dout = layer.backward(dout)\n",
    "\n",
    "        grads = {}\n",
    "        grads['W1'] = self.layers['Conv1'].dW\n",
    "        grads['b1'] = self.layers['Conv1'].db\n",
    "        grads['W2'] = self.layers['Affine1'].dW\n",
    "        grads['b2'] = self.layers['Affine1'].db\n",
    "        grads['W3'] = self.layers['Affine2'].dW\n",
    "        grads['b3'] = self.layers['Affine2'].db\n",
    "        \n",
    "        return grads\n",
    "\n",
    "    def accuracy(self, x, t, batch_size=100):\n",
    "        if t.ndim != 1 : t = np.argmax(t, axis=1)\n",
    "\n",
    "        acc = 0.0\n",
    "\n",
    "        for i in range(int(x.shape[0] / batch_size)):\n",
    "            tx = x[i*batch_size:(i+1)*batch_size]\n",
    "            tt = t[i*batch_size:(i+1)*batch_size]\n",
    "            y = self.predict(tx)\n",
    "            y = np.argmax(y, axis=1)\n",
    "            acc += np.sum(y == tt)\n",
    "        \n",
    "        return acc / x.shape[0]"
   ]
  },
  {
   "cell_type": "code",
   "execution_count": null,
   "metadata": {},
   "outputs": [],
   "source": [
    "from dataset.mnist import load_mnist\n",
    "from common.trainer import Trainer\n",
    "\n",
    "(x_train, t_train), (x_test, t_test) = load_mnist(flatten=False)\n",
    "\n",
    "max_epochs=20\n",
    "\n",
    "network = SimpleConvNet(input_dim=(1,28,28), \n",
    "                        conv_param = {'filter_num': 30, 'filter_size': 5, 'pad': 0, 'stride': 1},\n",
    "                        hidden_size=100, output_size=10, weight_init_std=0.01)\n",
    "                        \n",
    "trainer = Trainer(network, x_train, t_train, x_test, t_test,\n",
    "                  epochs=max_epochs, mini_batch_size=1024,\n",
    "                  optimizer='Adam', optimizer_param={'lr': 0.001},\n",
    "                  evaluate_sample_num_per_epoch=1000)\n",
    "trainer.train()"
   ]
  },
  {
   "cell_type": "code",
   "execution_count": 10,
   "metadata": {},
   "outputs": [
    {
     "data": {
      "image/png": "[encoded data removed]",
      "text/plain": [
       "<Figure size 640x480 with 1 Axes>"
      ]
     },
     "metadata": {},
     "output_type": "display_data"
    }
   ],
   "source": [
    "# 그래프 그리기\n",
    "markers = {'train': 'o', 'test': 's'}\n",
    "x = np.arange(5)\n",
    "plt.plot(x, trainer.train_acc_list, marker='o', label='train', markevery=2)\n",
    "plt.plot(x, trainer.test_acc_list, marker='s', label='test', markevery=2)\n",
    "plt.xlabel(\"epochs\")\n",
    "plt.ylabel(\"accuracy\")\n",
    "plt.ylim(0, 1.0)\n",
    "plt.legend(loc='lower right')\n",
    "plt.show()\n"
   ]
  },
  {
   "cell_type": "code",
   "execution_count": 11,
   "metadata": {},
   "outputs": [
    {
     "data": {
      "text/plain": [
       "[0.169, 0.959, 0.977, 0.974, 0.978]"
      ]
     },
     "execution_count": 11,
     "metadata": {},
     "output_type": "execute_result"
    }
   ],
   "source": [
    "trainer.test_acc_list"
   ]
  },
  {
   "cell_type": "code",
   "execution_count": 16,
   "metadata": {},
   "outputs": [],
   "source": [
    "import tensorflow as tf\n",
    "\n",
    "# To use GPU\n",
    "physical_devices = tf.config.experimental.list_physical_devices('GPU')\n",
    "tf.config.experimental.set_memory_growth(physical_devices[0], True)"
   ]
  },
  {
   "attachments": {},
   "cell_type": "markdown",
   "metadata": {},
   "source": [
    "```py\n",
    "network = SimpleConvNet(input_dim=(1,28,28), \n",
    "                        conv_param = {'filter_num': 30, 'filter_size': 5, 'pad': 0, 'stride': 1},\n",
    "                        hidden_size=100, output_size=10, weight_init_std=0.01)\n",
    "                        \n",
    "trainer = Trainer(network, x_train, t_train, x_test, t_test,\n",
    "                  epochs=max_epochs, mini_batch_size=1024,\n",
    "                  optimizer='Adam', optimizer_param={'lr': 0.001},\n",
    "                  evaluate_sample_num_per_epoch=1000)\n",
    "trainer.train()\n",
    "```"
   ]
  },
  {
   "cell_type": "code",
   "execution_count": 35,
   "metadata": {},
   "outputs": [],
   "source": [
    "model = tf.keras.Sequential([\n",
    "    tf.keras.layers.Conv2D(32, 5, activation='relu', input_shape=(28, 28, 1)),\n",
    "    tf.keras.layers.MaxPooling2D(),\n",
    "    tf.keras.layers.Flatten(),\n",
    "    tf.keras.layers.Dense(64, activation='relu'),\n",
    "    tf.keras.layers.Dense(10, activation='softmax')\n",
    "])"
   ]
  },
  {
   "cell_type": "code",
   "execution_count": 36,
   "metadata": {},
   "outputs": [],
   "source": [
    "model.compile(optimizer='adam', loss='sparse_categorical_crossentropy', metrics=['accuracy'])"
   ]
  },
  {
   "cell_type": "code",
   "execution_count": 37,
   "metadata": {},
   "outputs": [],
   "source": [
    "x_train_tf = tf.constant(x_train.transpose(0, 2, 3, 1))\n",
    "t_train_tf = tf.constant(t_train)\n",
    "x_test_tf = tf.constant(x_test.transpose(0, 2, 3, 1))\n",
    "t_test_tf = tf.constant(t_test)"
   ]
  },
  {
   "cell_type": "code",
   "execution_count": 38,
   "metadata": {},
   "outputs": [
    {
     "name": "stdout",
     "output_type": "stream",
     "text": [
      "Epoch 1/20\n",
      "1875/1875 [==============================] - 6s 3ms/step - loss: 0.1521 - accuracy: 0.9551 - val_loss: 0.0618 - val_accuracy: 0.9792\n",
      "Epoch 2/20\n",
      "1875/1875 [==============================] - 7s 4ms/step - loss: 0.0529 - accuracy: 0.9840 - val_loss: 0.0404 - val_accuracy: 0.9865\n",
      "Epoch 3/20\n",
      "1875/1875 [==============================] - 6s 3ms/step - loss: 0.0371 - accuracy: 0.9883 - val_loss: 0.0471 - val_accuracy: 0.9847\n",
      "Epoch 4/20\n",
      "1875/1875 [==============================] - 6s 3ms/step - loss: 0.0275 - accuracy: 0.9910 - val_loss: 0.0402 - val_accuracy: 0.9875\n",
      "Epoch 5/20\n",
      "1875/1875 [==============================] - 6s 3ms/step - loss: 0.0201 - accuracy: 0.9935 - val_loss: 0.0444 - val_accuracy: 0.9870\n",
      "Epoch 6/20\n",
      "1875/1875 [==============================] - 6s 3ms/step - loss: 0.0152 - accuracy: 0.9947 - val_loss: 0.0421 - val_accuracy: 0.9874\n",
      "Epoch 7/20\n",
      "1875/1875 [==============================] - 6s 3ms/step - loss: 0.0119 - accuracy: 0.9961 - val_loss: 0.0426 - val_accuracy: 0.9879\n",
      "Epoch 8/20\n",
      "1875/1875 [==============================] - 6s 3ms/step - loss: 0.0093 - accuracy: 0.9970 - val_loss: 0.0409 - val_accuracy: 0.9897\n",
      "Epoch 9/20\n",
      "1875/1875 [==============================] - 6s 3ms/step - loss: 0.0077 - accuracy: 0.9975 - val_loss: 0.0440 - val_accuracy: 0.9880\n",
      "Epoch 10/20\n",
      "1875/1875 [==============================] - 6s 3ms/step - loss: 0.0063 - accuracy: 0.9979 - val_loss: 0.0398 - val_accuracy: 0.9898\n",
      "Epoch 11/20\n",
      "1875/1875 [==============================] - 6s 3ms/step - loss: 0.0060 - accuracy: 0.9979 - val_loss: 0.0471 - val_accuracy: 0.9892\n",
      "Epoch 12/20\n",
      "1875/1875 [==============================] - 6s 3ms/step - loss: 0.0047 - accuracy: 0.9984 - val_loss: 0.0485 - val_accuracy: 0.9891\n",
      "Epoch 13/20\n",
      "1875/1875 [==============================] - 9s 5ms/step - loss: 0.0042 - accuracy: 0.9985 - val_loss: 0.0595 - val_accuracy: 0.9889\n",
      "Epoch 14/20\n",
      "1875/1875 [==============================] - 8s 4ms/step - loss: 0.0043 - accuracy: 0.9985 - val_loss: 0.0541 - val_accuracy: 0.9901\n",
      "Epoch 15/20\n",
      "1875/1875 [==============================] - 7s 4ms/step - loss: 0.0026 - accuracy: 0.9992 - val_loss: 0.0615 - val_accuracy: 0.9884\n",
      "Epoch 16/20\n",
      "1875/1875 [==============================] - 7s 4ms/step - loss: 0.0038 - accuracy: 0.9988 - val_loss: 0.0537 - val_accuracy: 0.9896\n",
      "Epoch 17/20\n",
      "1875/1875 [==============================] - 7s 4ms/step - loss: 0.0033 - accuracy: 0.9988 - val_loss: 0.0546 - val_accuracy: 0.9888\n",
      "Epoch 18/20\n",
      "1875/1875 [==============================] - 7s 4ms/step - loss: 0.0037 - accuracy: 0.9989 - val_loss: 0.0618 - val_accuracy: 0.9885\n",
      "Epoch 19/20\n",
      "1875/1875 [==============================] - 6s 3ms/step - loss: 0.0022 - accuracy: 0.9992 - val_loss: 0.0628 - val_accuracy: 0.9890\n",
      "Epoch 20/20\n",
      "1875/1875 [==============================] - 6s 3ms/step - loss: 0.0032 - accuracy: 0.9989 - val_loss: 0.0642 - val_accuracy: 0.9885\n"
     ]
    }
   ],
   "source": [
    "history = model.fit(x_train_tf, t_train_tf, epochs=max_epochs, batch_size=32, validation_data=(x_test_tf, t_test_tf))"
   ]
  },
  {
   "cell_type": "code",
   "execution_count": 41,
   "metadata": {},
   "outputs": [
    {
     "data": {
      "image/png": "[encoded data removed]",
      "text/plain": [
       "<Figure size 640x480 with 1 Axes>"
      ]
     },
     "metadata": {},
     "output_type": "display_data"
    }
   ],
   "source": [
    "# 그래프 그리기\n",
    "markers = {'train': 'o', 'test': 's'}\n",
    "x = np.arange(max_epochs)\n",
    "plt.plot(x, history.history['accuracy'], marker='o', label='train', markevery=2)\n",
    "plt.plot(x, history.history['val_accuracy'], marker='s', label='test', markevery=2)\n",
    "plt.xlabel(\"epochs\")\n",
    "plt.ylabel(\"accuracy\")\n",
    "plt.ylim(0.9, 1.0)\n",
    "plt.legend(loc='lower right')\n",
    "plt.show()\n"
   ]
  }
 ],
 "metadata": {
  "kernelspec": {
   "display_name": "tf2",
   "language": "python",
   "name": "python3"
  },
  "language_info": {
   "codemirror_mode": {
    "name": "ipython",
    "version": 3
   },
   "file_extension": ".py",
   "mimetype": "text/x-python",
   "name": "python",
   "nbconvert_exporter": "python",
   "pygments_lexer": "ipython3",
   "version": "3.8.13"
  },
  "orig_nbformat": 4,
  "vscode": {
   "interpreter": {
    "hash": "e86f425da1fde591ca0bab614e0be3b61e20029dc5f600bc20b1539437b4103e"
   }
  }
 },
 "nbformat": 4,
 "nbformat_minor": 2
}
