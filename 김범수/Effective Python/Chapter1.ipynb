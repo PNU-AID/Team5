{
 "cells": [
  {
   "cell_type": "code",
   "execution_count": 3,
   "metadata": {},
   "outputs": [
    {
     "name": "stdout",
     "output_type": "stream",
     "text": [
      "[104, 101, 108, 108, 111]\n",
      "b'hello'\n"
     ]
    }
   ],
   "source": [
    "a = b'h\\x65llo'\n",
    "print(list(a))\n",
    "print(a)\n",
    "#byte는 텍스트 인코딩이 없고 str은 이진 인코딩이 없다"
   ]
  },
  {
   "cell_type": "code",
   "execution_count": null,
   "metadata": {},
   "outputs": [],
   "source": []
  }
 ],
 "metadata": {
  "kernelspec": {
   "display_name": "Python 3.8.13 64-bit ('ml')",
   "language": "python",
   "name": "python3"
  },
  "language_info": {
   "codemirror_mode": {
    "name": "ipython",
    "version": 3
   },
   "file_extension": ".py",
   "mimetype": "text/x-python",
   "name": "python",
   "nbconvert_exporter": "python",
   "pygments_lexer": "ipython3",
   "version": "3.8.13"
  },
  "orig_nbformat": 4,
  "vscode": {
   "interpreter": {
    "hash": "34c4668e87611146286b58d2f26bcbebdfbc1644e0d16180b22e8013a23f0ece"
   }
  }
 },
 "nbformat": 4,
 "nbformat_minor": 2
}
